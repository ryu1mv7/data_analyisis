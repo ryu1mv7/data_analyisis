{
  "nbformat": 4,
  "nbformat_minor": 0,
  "metadata": {
    "colab": {
      "provenance": []
    },
    "kernelspec": {
      "name": "python3",
      "display_name": "Python 3"
    },
    "language_info": {
      "name": "python"
    }
  },
  "cells": [
    {
      "cell_type": "markdown",
      "source": [
        "論文(以下リンク)のフローチャートに基づいた、リアルタイムユーザー購買予測システムの簡易的実装\n",
        "\n",
        "https://www.proquest.com/docview/2307054331?sourcetype=Scholarly%20Journals\n"
      ],
      "metadata": {
        "id": "xREJ0OKDWlmt"
      }
    },
    {
      "cell_type": "code",
      "source": [
        "import numpy as np\n",
        "\n",
        "# Sigmoid function for approximation\n",
        "def sigmoid(x):\n",
        "    return 1 / (1 + np.exp(-x))\n",
        "\n",
        "# LSTM RNN model\n",
        "def lstm_rnn(X1):\n",
        "    \"\"\"\n",
        "    Input\n",
        "        X1: user_profile\n",
        "    \"\"\"\n",
        "    # Simulate LSTM RNN model according to the assistance info in the brief\n",
        "    if \"high_bounce_rate\" in X1:\n",
        "        prediction = 0.6\n",
        "    else:\n",
        "        prediction = 0.2\n",
        "    return sigmoid(prediction)  # return via sigmoid function\n",
        "\n",
        "# MLP model\n",
        "def mlp(X1, X2):\n",
        "    \"\"\"\n",
        "    Input\n",
        "        X1: user_profile\n",
        "        X2: session_info\n",
        "    \"\"\"\n",
        "    # Simulate MLP model according to the assistance info in the brief\n",
        "    if 'long_duration' in X2 and 'repeat_visitor' in X1:\n",
        "        prediction = 0.8\n",
        "    else:\n",
        "        prediction = 0.3\n",
        "    return sigmoid(prediction) # return via sigmoid function\n",
        "\n",
        "# Function to simulate retrieving session and personal information\n",
        "def retrieve_information(action):\n",
        "    user_profile = {'repeat_visitor': True} if action == 'return_visit' else {'high_bounce_rate': True} # profile the user as repeat_visitor or high_bounce_rate\n",
        "    session_info = {'long_duration': True} if action == 'long_stay' else {} # session info will be long_duration or None\n",
        "    return user_profile, session_info\n",
        "\n",
        "# Function to display content to the visitor based on purchasing intent\n",
        "def display_content():\n",
        "    print(\"Offer personalized content to encourage purchase.\") #display contents\n",
        "\n",
        "# Main loop for processing new actions taken by the visitor\n",
        "def user_behaviour_analysis(alpha1 = 0.5, alpha2 = 0.7):\n",
        "    \"\"\"\n",
        "    Input:\n",
        "        alpha1: Abandonment threshold\n",
        "        alpha2: Purchasing intention threshold\n",
        "    \"\"\"\n",
        "    while True:\n",
        "        # Simulate retrieving session and personal information\n",
        "        action = input(\"Enter action (long_stay or return_visit): \")\n",
        "        user_profile, session_info = retrieve_information(action) # get input from user, which are retrieve session and personal information\n",
        "\n",
        "        X1 = user_profile\n",
        "\n",
        "\n",
        "        s1 = lstm_rnn(X1) # abandonment anaysis module to estimate abandonment threshold\n",
        "\n",
        "        if s1 > alpha1:\n",
        "            X2 = session_info  # Use session_info as session information\n",
        "\n",
        "            # Simulate MLP model and get the value of the purchasing intension\n",
        "            s2 = mlp(X1, X2) # behaviour analysis\n",
        "\n",
        "            if s2 > alpha2: # display content if s2(purchasing intension) is greater than purchasing intention threshold\n",
        "                display_content()\n",
        "                break  # Terminate\n",
        "            else:  # Visitor does not have purchasing intention\n",
        "                print(\"Visitor does not show signs of purchasing intent.\")\n",
        "\n",
        "        # End loop if user wants to, or continue processing new actions\n",
        "        end = input(\"Do you want to end the session? (yes/no): \")\n",
        "        if end.lower() == 'yes':\n",
        "            break\n",
        "\n",
        "if __name__ == \"__main__\":\n",
        "    user_behaviour_analysis()"
      ],
      "metadata": {
        "colab": {
          "base_uri": "https://localhost:8080/"
        },
        "id": "zLjm8Ja7Y7JY",
        "outputId": "f9611088-ae90-48a7-8b15-49d302bc5a57"
      },
      "execution_count": null,
      "outputs": [
        {
          "name": "stdout",
          "output_type": "stream",
          "text": [
            "Enter action (long_stay or return_visit): return_visit\n",
            "Visitor does not show signs of purchasing intent.\n",
            "Do you want to end the session? (yes/no): yes\n"
          ]
        }
      ]
    }
  ]
}