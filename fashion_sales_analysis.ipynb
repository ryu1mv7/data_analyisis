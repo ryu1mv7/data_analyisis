{
  "nbformat": 4,
  "nbformat_minor": 0,
  "metadata": {
    "colab": {
      "provenance": []
    },
    "kernelspec": {
      "name": "ir",
      "display_name": "R"
    },
    "language_info": {
      "name": "R"
    }
  },
  "cells": [
    {
      "cell_type": "markdown",
      "source": [
        "#SECTION A"
      ],
      "metadata": {
        "id": "yTC1ATdfBYaB"
      }
    },
    {
      "cell_type": "markdown",
      "source": [
        "###(Question 1)"
      ],
      "metadata": {
        "id": "CILvfuX9IBHl"
      }
    },
    {
      "cell_type": "code",
      "execution_count": null,
      "metadata": {
        "colab": {
          "base_uri": "https://localhost:8080/"
        },
        "id": "OO6EM4arI6Lk",
        "outputId": "f36fb1c8-83d5-402a-8064-68f1fe891107"
      },
      "outputs": [
        {
          "output_type": "stream",
          "name": "stderr",
          "text": [
            "Installing package into ‘/usr/local/lib/R/site-library’\n",
            "(as ‘lib’ is unspecified)\n",
            "\n"
          ]
        }
      ],
      "source": [
        "install.packages(\"readxl\")\n",
        "library(readxl)\n",
        "# install and load the readxl package for future use and manipulation of excel file."
      ]
    },
    {
      "cell_type": "markdown",
      "source": [
        "Oepning the excel file, I found sales data is in the first sheet. Therefore, I don't need to specify the sheet name or number when reading excel file in the code below."
      ],
      "metadata": {
        "id": "9pSX2BPSXN1W"
      }
    },
    {
      "cell_type": "code",
      "source": [
        "fashion_sales_df = read_excel(\"Fashion.xlsx\") # read the excel file into the dataframe\n",
        "head(fashion_sales_df, n = 10) # specify the number of rows I want for output and display the dataframe"
      ],
      "metadata": {
        "colab": {
          "base_uri": "https://localhost:8080/",
          "height": 412
        },
        "id": "wYRqlvtjVel3",
        "outputId": "64a2eca8-47ff-4f39-af36-71223acc8d72"
      },
      "execution_count": null,
      "outputs": [
        {
          "output_type": "display_data",
          "data": {
            "text/html": [
              "<table class=\"dataframe\">\n",
              "<caption>A tibble: 10 × 13</caption>\n",
              "<thead>\n",
              "\t<tr><th scope=col>Order ID</th><th scope=col>Order Date</th><th scope=col>Shipping Date</th><th scope=col>Aging</th><th scope=col>Ship Mode</th><th scope=col>Product Category</th><th scope=col>Product</th><th scope=col>Sales</th><th scope=col>Quantity</th><th scope=col>Discount</th><th scope=col>Profit</th><th scope=col>Shipping Cost</th><th scope=col>Order Priority</th></tr>\n",
              "\t<tr><th scope=col>&lt;chr&gt;</th><th scope=col>&lt;dttm&gt;</th><th scope=col>&lt;dttm&gt;</th><th scope=col>&lt;dbl&gt;</th><th scope=col>&lt;chr&gt;</th><th scope=col>&lt;chr&gt;</th><th scope=col>&lt;chr&gt;</th><th scope=col>&lt;dbl&gt;</th><th scope=col>&lt;dbl&gt;</th><th scope=col>&lt;dbl&gt;</th><th scope=col>&lt;dbl&gt;</th><th scope=col>&lt;dbl&gt;</th><th scope=col>&lt;chr&gt;</th></tr>\n",
              "</thead>\n",
              "<tbody>\n",
              "\t<tr><td>FA-2015-1  </td><td>2015-05-18</td><td>2015-05-25</td><td> 7</td><td>Standard Class</td><td>Fashion</td><td>T - Shirts</td><td>248</td><td>3</td><td>0.03</td><td>145.68</td><td>14.568</td><td>High  </td></tr>\n",
              "\t<tr><td>FA-2015-12 </td><td>2015-06-19</td><td>2015-06-29</td><td>10</td><td>Standard Class</td><td>Fashion</td><td>T - Shirts</td><td>248</td><td>5</td><td>0.02</td><td>143.20</td><td>14.320</td><td>Low   </td></tr>\n",
              "\t<tr><td>FA-2015-23 </td><td>2015-02-17</td><td>2015-02-22</td><td> 5</td><td>Standard Class</td><td>Fashion</td><td>T - Shirts</td><td>248</td><td>1</td><td>0.04</td><td>158.08</td><td>15.808</td><td>High  </td></tr>\n",
              "\t<tr><td>FA-2015-34 </td><td>2015-02-25</td><td>2015-03-03</td><td> 6</td><td>Standard Class</td><td>Fashion</td><td>T - Shirts</td><td>248</td><td>3</td><td>0.04</td><td>138.24</td><td>13.824</td><td>Low   </td></tr>\n",
              "\t<tr><td>FA-2015-45 </td><td>2015-07-09</td><td>2015-07-11</td><td> 2</td><td>Standard Class</td><td>Fashion</td><td>T - Shirts</td><td>248</td><td>3</td><td>0.01</td><td>160.56</td><td>16.056</td><td>Low   </td></tr>\n",
              "\t<tr><td>FA-2015-56 </td><td>2015-06-05</td><td>2015-06-10</td><td> 5</td><td>Standard Class</td><td>Fashion</td><td>T - Shirts</td><td>248</td><td>3</td><td>0.01</td><td>160.56</td><td>16.056</td><td>High  </td></tr>\n",
              "\t<tr><td>FA-2015-67 </td><td>2015-10-11</td><td>2015-10-18</td><td> 7</td><td>Standard Class</td><td>Fashion</td><td>T - Shirts</td><td>248</td><td>3</td><td>0.03</td><td>145.68</td><td>14.568</td><td>Medium</td></tr>\n",
              "\t<tr><td>FA-2015-78 </td><td>2015-02-14</td><td>2015-02-17</td><td> 3</td><td>Standard Class</td><td>Fashion</td><td>T - Shirts</td><td>248</td><td>4</td><td>0.01</td><td>158.08</td><td>15.808</td><td>High  </td></tr>\n",
              "\t<tr><td>FA-2015-89 </td><td>2015-07-30</td><td>2015-08-06</td><td> 7</td><td>Standard Class</td><td>Fashion</td><td>T - Shirts</td><td>248</td><td>2</td><td>0.03</td><td>153.12</td><td>15.312</td><td>High  </td></tr>\n",
              "\t<tr><td>FA-2015-100</td><td>2015-12-16</td><td>2015-12-21</td><td> 5</td><td>Standard Class</td><td>Fashion</td><td>T - Shirts</td><td>248</td><td>3</td><td>0.02</td><td>153.12</td><td>15.312</td><td>High  </td></tr>\n",
              "</tbody>\n",
              "</table>\n"
            ],
            "text/markdown": "\nA tibble: 10 × 13\n\n| Order ID &lt;chr&gt; | Order Date &lt;dttm&gt; | Shipping Date &lt;dttm&gt; | Aging &lt;dbl&gt; | Ship Mode &lt;chr&gt; | Product Category &lt;chr&gt; | Product &lt;chr&gt; | Sales &lt;dbl&gt; | Quantity &lt;dbl&gt; | Discount &lt;dbl&gt; | Profit &lt;dbl&gt; | Shipping Cost &lt;dbl&gt; | Order Priority &lt;chr&gt; |\n|---|---|---|---|---|---|---|---|---|---|---|---|---|\n| FA-2015-1   | 2015-05-18 | 2015-05-25 |  7 | Standard Class | Fashion | T - Shirts | 248 | 3 | 0.03 | 145.68 | 14.568 | High   |\n| FA-2015-12  | 2015-06-19 | 2015-06-29 | 10 | Standard Class | Fashion | T - Shirts | 248 | 5 | 0.02 | 143.20 | 14.320 | Low    |\n| FA-2015-23  | 2015-02-17 | 2015-02-22 |  5 | Standard Class | Fashion | T - Shirts | 248 | 1 | 0.04 | 158.08 | 15.808 | High   |\n| FA-2015-34  | 2015-02-25 | 2015-03-03 |  6 | Standard Class | Fashion | T - Shirts | 248 | 3 | 0.04 | 138.24 | 13.824 | Low    |\n| FA-2015-45  | 2015-07-09 | 2015-07-11 |  2 | Standard Class | Fashion | T - Shirts | 248 | 3 | 0.01 | 160.56 | 16.056 | Low    |\n| FA-2015-56  | 2015-06-05 | 2015-06-10 |  5 | Standard Class | Fashion | T - Shirts | 248 | 3 | 0.01 | 160.56 | 16.056 | High   |\n| FA-2015-67  | 2015-10-11 | 2015-10-18 |  7 | Standard Class | Fashion | T - Shirts | 248 | 3 | 0.03 | 145.68 | 14.568 | Medium |\n| FA-2015-78  | 2015-02-14 | 2015-02-17 |  3 | Standard Class | Fashion | T - Shirts | 248 | 4 | 0.01 | 158.08 | 15.808 | High   |\n| FA-2015-89  | 2015-07-30 | 2015-08-06 |  7 | Standard Class | Fashion | T - Shirts | 248 | 2 | 0.03 | 153.12 | 15.312 | High   |\n| FA-2015-100 | 2015-12-16 | 2015-12-21 |  5 | Standard Class | Fashion | T - Shirts | 248 | 3 | 0.02 | 153.12 | 15.312 | High   |\n\n",
            "text/latex": "A tibble: 10 × 13\n\\begin{tabular}{lllllllllllll}\n Order ID & Order Date & Shipping Date & Aging & Ship Mode & Product Category & Product & Sales & Quantity & Discount & Profit & Shipping Cost & Order Priority\\\\\n <chr> & <dttm> & <dttm> & <dbl> & <chr> & <chr> & <chr> & <dbl> & <dbl> & <dbl> & <dbl> & <dbl> & <chr>\\\\\n\\hline\n\t FA-2015-1   & 2015-05-18 & 2015-05-25 &  7 & Standard Class & Fashion & T - Shirts & 248 & 3 & 0.03 & 145.68 & 14.568 & High  \\\\\n\t FA-2015-12  & 2015-06-19 & 2015-06-29 & 10 & Standard Class & Fashion & T - Shirts & 248 & 5 & 0.02 & 143.20 & 14.320 & Low   \\\\\n\t FA-2015-23  & 2015-02-17 & 2015-02-22 &  5 & Standard Class & Fashion & T - Shirts & 248 & 1 & 0.04 & 158.08 & 15.808 & High  \\\\\n\t FA-2015-34  & 2015-02-25 & 2015-03-03 &  6 & Standard Class & Fashion & T - Shirts & 248 & 3 & 0.04 & 138.24 & 13.824 & Low   \\\\\n\t FA-2015-45  & 2015-07-09 & 2015-07-11 &  2 & Standard Class & Fashion & T - Shirts & 248 & 3 & 0.01 & 160.56 & 16.056 & Low   \\\\\n\t FA-2015-56  & 2015-06-05 & 2015-06-10 &  5 & Standard Class & Fashion & T - Shirts & 248 & 3 & 0.01 & 160.56 & 16.056 & High  \\\\\n\t FA-2015-67  & 2015-10-11 & 2015-10-18 &  7 & Standard Class & Fashion & T - Shirts & 248 & 3 & 0.03 & 145.68 & 14.568 & Medium\\\\\n\t FA-2015-78  & 2015-02-14 & 2015-02-17 &  3 & Standard Class & Fashion & T - Shirts & 248 & 4 & 0.01 & 158.08 & 15.808 & High  \\\\\n\t FA-2015-89  & 2015-07-30 & 2015-08-06 &  7 & Standard Class & Fashion & T - Shirts & 248 & 2 & 0.03 & 153.12 & 15.312 & High  \\\\\n\t FA-2015-100 & 2015-12-16 & 2015-12-21 &  5 & Standard Class & Fashion & T - Shirts & 248 & 3 & 0.02 & 153.12 & 15.312 & High  \\\\\n\\end{tabular}\n",
            "text/plain": [
              "   Order ID    Order Date Shipping Date Aging Ship Mode      Product Category\n",
              "1  FA-2015-1   2015-05-18 2015-05-25     7    Standard Class Fashion         \n",
              "2  FA-2015-12  2015-06-19 2015-06-29    10    Standard Class Fashion         \n",
              "3  FA-2015-23  2015-02-17 2015-02-22     5    Standard Class Fashion         \n",
              "4  FA-2015-34  2015-02-25 2015-03-03     6    Standard Class Fashion         \n",
              "5  FA-2015-45  2015-07-09 2015-07-11     2    Standard Class Fashion         \n",
              "6  FA-2015-56  2015-06-05 2015-06-10     5    Standard Class Fashion         \n",
              "7  FA-2015-67  2015-10-11 2015-10-18     7    Standard Class Fashion         \n",
              "8  FA-2015-78  2015-02-14 2015-02-17     3    Standard Class Fashion         \n",
              "9  FA-2015-89  2015-07-30 2015-08-06     7    Standard Class Fashion         \n",
              "10 FA-2015-100 2015-12-16 2015-12-21     5    Standard Class Fashion         \n",
              "   Product    Sales Quantity Discount Profit Shipping Cost Order Priority\n",
              "1  T - Shirts 248   3        0.03     145.68 14.568        High          \n",
              "2  T - Shirts 248   5        0.02     143.20 14.320        Low           \n",
              "3  T - Shirts 248   1        0.04     158.08 15.808        High          \n",
              "4  T - Shirts 248   3        0.04     138.24 13.824        Low           \n",
              "5  T - Shirts 248   3        0.01     160.56 16.056        Low           \n",
              "6  T - Shirts 248   3        0.01     160.56 16.056        High          \n",
              "7  T - Shirts 248   3        0.03     145.68 14.568        Medium        \n",
              "8  T - Shirts 248   4        0.01     158.08 15.808        High          \n",
              "9  T - Shirts 248   2        0.03     153.12 15.312        High          \n",
              "10 T - Shirts 248   3        0.02     153.12 15.312        High          "
            ]
          },
          "metadata": {}
        }
      ]
    },
    {
      "cell_type": "code",
      "source": [
        "summary(fashion_sales_df) # get summery statics for each of all columns(entire dataset)"
      ],
      "metadata": {
        "colab": {
          "base_uri": "https://localhost:8080/",
          "height": 589
        },
        "id": "FJ-6OGy1LkAB",
        "outputId": "d7c3c5c1-82e6-4180-b3f6-17536cc4bb3c"
      },
      "execution_count": null,
      "outputs": [
        {
          "output_type": "display_data",
          "data": {
            "text/plain": [
              "   Order ID           Order Date                   \n",
              " Length:851         Min.   :2015-01-01 00:00:00.0  \n",
              " Class :character   1st Qu.:2015-04-09 06:00:00.0  \n",
              " Mode  :character   Median :2015-07-03 00:00:00.0  \n",
              "                    Mean   :2015-07-02 18:21:16.5  \n",
              "                    3rd Qu.:2015-09-26 18:00:00.0  \n",
              "                    Max.   :2015-12-31 00:00:00.0  \n",
              "                    NA's   :5                      \n",
              " Shipping Date                        Aging         Ship Mode        \n",
              " Min.   :2015-01-04 00:00:00.00   Min.   : 1.000   Length:851        \n",
              " 1st Qu.:2015-04-13 00:00:00.00   1st Qu.: 3.000   Class :character  \n",
              " Median :2015-07-08 00:00:00.00   Median : 5.000   Mode  :character  \n",
              " Mean   :2015-07-08 00:33:50.54   Mean   : 5.442                     \n",
              " 3rd Qu.:2015-10-02 00:00:00.00   3rd Qu.: 8.000                     \n",
              " Max.   :2016-01-09 00:00:00.00   Max.   :10.000                     \n",
              "                                                                     \n",
              " Product Category     Product              Sales        Quantity    \n",
              " Length:851         Length:851         Min.   :248   Min.   :1.000  \n",
              " Class :character   Class :character   1st Qu.:248   1st Qu.:2.000  \n",
              " Mode  :character   Mode  :character   Median :248   Median :3.000  \n",
              "                                       Mean   :248   Mean   :3.026  \n",
              "                                       3rd Qu.:248   3rd Qu.:4.000  \n",
              "                                       Max.   :248   Max.   :5.000  \n",
              "                                                                    \n",
              "    Discount           Profit      Shipping Cost   Order Priority    \n",
              " Min.   :0.01000   Min.   :106.0   Min.   :10.60   Length:851        \n",
              " 1st Qu.:0.02000   1st Qu.:138.2   1st Qu.:13.82   Class :character  \n",
              " Median :0.03000   Median :148.2   Median :14.82   Mode  :character  \n",
              " Mean   :0.02969   Mean   :145.8   Mean   :14.58                     \n",
              " 3rd Qu.:0.04000   3rd Qu.:158.1   3rd Qu.:15.81                     \n",
              " Max.   :0.05000   Max.   :165.5   Max.   :16.55                     \n",
              "                   NA's   :26                                        "
            ]
          },
          "metadata": {}
        }
      ]
    },
    {
      "cell_type": "markdown",
      "source": [
        "###(Question 2)"
      ],
      "metadata": {
        "id": "d6g976XKMKYA"
      }
    },
    {
      "cell_type": "code",
      "source": [
        "str(fashion_sales_df) # get data types of each of all columns and size(row : 851, col : 13)"
      ],
      "metadata": {
        "colab": {
          "base_uri": "https://localhost:8080/"
        },
        "id": "UekBKxXhMJ4e",
        "outputId": "27469fc6-bf8a-49db-ec69-1560504d8bd6"
      },
      "execution_count": null,
      "outputs": [
        {
          "output_type": "stream",
          "name": "stdout",
          "text": [
            "tibble [851 × 13] (S3: tbl_df/tbl/data.frame)\n",
            " $ Order ID        : chr [1:851] \"FA-2015-1\" \"FA-2015-12\" \"FA-2015-23\" \"FA-2015-34\" ...\n",
            " $ Order Date      : POSIXct[1:851], format: \"2015-05-18\" \"2015-06-19\" ...\n",
            " $ Shipping Date   : POSIXct[1:851], format: \"2015-05-25\" \"2015-06-29\" ...\n",
            " $ Aging           : num [1:851] 7 10 5 6 2 5 7 3 7 5 ...\n",
            " $ Ship Mode       : chr [1:851] \"Standard Class\" \"Standard Class\" \"Standard Class\" \"Standard Class\" ...\n",
            " $ Product Category: chr [1:851] \"Fashion\" \"Fashion\" \"Fashion\" \"Fashion\" ...\n",
            " $ Product         : chr [1:851] \"T - Shirts\" \"T - Shirts\" \"T - Shirts\" \"T - Shirts\" ...\n",
            " $ Sales           : num [1:851] 248 248 248 248 248 248 248 248 248 248 ...\n",
            " $ Quantity        : num [1:851] 3 5 1 3 3 3 3 4 2 3 ...\n",
            " $ Discount        : num [1:851] 0.03 0.02 0.04 0.04 0.01 0.01 0.03 0.01 0.03 0.02 ...\n",
            " $ Profit          : num [1:851] 146 143 158 138 161 ...\n",
            " $ Shipping Cost   : num [1:851] 14.6 14.3 15.8 13.8 16.1 ...\n",
            " $ Order Priority  : chr [1:851] \"High\" \"Low\" \"High\" \"Low\" ...\n"
          ]
        }
      ]
    },
    {
      "cell_type": "markdown",
      "source": [
        "###(Question 3)"
      ],
      "metadata": {
        "id": "6Z3f-ptJB_5x"
      }
    },
    {
      "cell_type": "code",
      "source": [
        "# will check weather each column has missing values\n",
        "missing_values <- sapply(fashion_sales_df, function(x) sum(is.na(x)))\n",
        "# apply the function that calculate total number of missing values in each col to the dataset\n",
        "#sum(is.na(x)) count the total number of missing values(na) of column\n",
        "\n",
        "\n",
        "print(missing_values)# Output the number of missing values in each column"
      ],
      "metadata": {
        "colab": {
          "base_uri": "https://localhost:8080/"
        },
        "id": "1C-g0RG4doHz",
        "outputId": "ee57d3e3-f4c0-4157-9ed3-9979cca47e52"
      },
      "execution_count": null,
      "outputs": [
        {
          "output_type": "stream",
          "name": "stdout",
          "text": [
            "        Order ID       Order Date    Shipping Date            Aging \n",
            "               0                5                0                0 \n",
            "       Ship Mode Product Category          Product            Sales \n",
            "               0                0                0                0 \n",
            "        Quantity         Discount           Profit    Shipping Cost \n",
            "               0                0               26                0 \n",
            "  Order Priority \n",
            "              12 \n"
          ]
        }
      ]
    },
    {
      "cell_type": "markdown",
      "source": [
        "###(Question 4)"
      ],
      "metadata": {
        "id": "7Fgv3hD2CLyv"
      }
    },
    {
      "cell_type": "code",
      "source": [
        "print(\"Before operation\")# Before\n",
        "head(fashion_sales_df, n = 5) # display 5 rows"
      ],
      "metadata": {
        "colab": {
          "base_uri": "https://localhost:8080/",
          "height": 273
        },
        "id": "dFKzYgBknNm6",
        "outputId": "2cb6ba1a-8239-472f-e45b-cdbde7de5a6b"
      },
      "execution_count": null,
      "outputs": [
        {
          "output_type": "stream",
          "name": "stdout",
          "text": [
            "[1] \"Before operation\"\n"
          ]
        },
        {
          "output_type": "display_data",
          "data": {
            "text/html": [
              "<table class=\"dataframe\">\n",
              "<caption>A tibble: 5 × 13</caption>\n",
              "<thead>\n",
              "\t<tr><th scope=col>Order ID</th><th scope=col>Order Date</th><th scope=col>Shipping Date</th><th scope=col>Aging</th><th scope=col>Ship Mode</th><th scope=col>Product Category</th><th scope=col>Product</th><th scope=col>Sales</th><th scope=col>Quantity</th><th scope=col>Discount</th><th scope=col>Profit</th><th scope=col>Shipping Cost</th><th scope=col>Order Priority</th></tr>\n",
              "\t<tr><th scope=col>&lt;chr&gt;</th><th scope=col>&lt;dttm&gt;</th><th scope=col>&lt;dttm&gt;</th><th scope=col>&lt;dbl&gt;</th><th scope=col>&lt;chr&gt;</th><th scope=col>&lt;chr&gt;</th><th scope=col>&lt;chr&gt;</th><th scope=col>&lt;dbl&gt;</th><th scope=col>&lt;dbl&gt;</th><th scope=col>&lt;dbl&gt;</th><th scope=col>&lt;dbl&gt;</th><th scope=col>&lt;dbl&gt;</th><th scope=col>&lt;chr&gt;</th></tr>\n",
              "</thead>\n",
              "<tbody>\n",
              "\t<tr><td>FA-2015-1 </td><td>2015-05-18</td><td>2015-05-25</td><td> 7</td><td>Standard Class</td><td>Fashion</td><td>T - Shirts</td><td>248</td><td>3</td><td>0.03</td><td>145.68</td><td>14.568</td><td>High</td></tr>\n",
              "\t<tr><td>FA-2015-12</td><td>2015-06-19</td><td>2015-06-29</td><td>10</td><td>Standard Class</td><td>Fashion</td><td>T - Shirts</td><td>248</td><td>5</td><td>0.02</td><td>143.20</td><td>14.320</td><td>Low </td></tr>\n",
              "\t<tr><td>FA-2015-23</td><td>2015-02-17</td><td>2015-02-22</td><td> 5</td><td>Standard Class</td><td>Fashion</td><td>T - Shirts</td><td>248</td><td>1</td><td>0.04</td><td>158.08</td><td>15.808</td><td>High</td></tr>\n",
              "\t<tr><td>FA-2015-34</td><td>2015-02-25</td><td>2015-03-03</td><td> 6</td><td>Standard Class</td><td>Fashion</td><td>T - Shirts</td><td>248</td><td>3</td><td>0.04</td><td>138.24</td><td>13.824</td><td>Low </td></tr>\n",
              "\t<tr><td>FA-2015-45</td><td>2015-07-09</td><td>2015-07-11</td><td> 2</td><td>Standard Class</td><td>Fashion</td><td>T - Shirts</td><td>248</td><td>3</td><td>0.01</td><td>160.56</td><td>16.056</td><td>Low </td></tr>\n",
              "</tbody>\n",
              "</table>\n"
            ],
            "text/markdown": "\nA tibble: 5 × 13\n\n| Order ID &lt;chr&gt; | Order Date &lt;dttm&gt; | Shipping Date &lt;dttm&gt; | Aging &lt;dbl&gt; | Ship Mode &lt;chr&gt; | Product Category &lt;chr&gt; | Product &lt;chr&gt; | Sales &lt;dbl&gt; | Quantity &lt;dbl&gt; | Discount &lt;dbl&gt; | Profit &lt;dbl&gt; | Shipping Cost &lt;dbl&gt; | Order Priority &lt;chr&gt; |\n|---|---|---|---|---|---|---|---|---|---|---|---|---|\n| FA-2015-1  | 2015-05-18 | 2015-05-25 |  7 | Standard Class | Fashion | T - Shirts | 248 | 3 | 0.03 | 145.68 | 14.568 | High |\n| FA-2015-12 | 2015-06-19 | 2015-06-29 | 10 | Standard Class | Fashion | T - Shirts | 248 | 5 | 0.02 | 143.20 | 14.320 | Low  |\n| FA-2015-23 | 2015-02-17 | 2015-02-22 |  5 | Standard Class | Fashion | T - Shirts | 248 | 1 | 0.04 | 158.08 | 15.808 | High |\n| FA-2015-34 | 2015-02-25 | 2015-03-03 |  6 | Standard Class | Fashion | T - Shirts | 248 | 3 | 0.04 | 138.24 | 13.824 | Low  |\n| FA-2015-45 | 2015-07-09 | 2015-07-11 |  2 | Standard Class | Fashion | T - Shirts | 248 | 3 | 0.01 | 160.56 | 16.056 | Low  |\n\n",
            "text/latex": "A tibble: 5 × 13\n\\begin{tabular}{lllllllllllll}\n Order ID & Order Date & Shipping Date & Aging & Ship Mode & Product Category & Product & Sales & Quantity & Discount & Profit & Shipping Cost & Order Priority\\\\\n <chr> & <dttm> & <dttm> & <dbl> & <chr> & <chr> & <chr> & <dbl> & <dbl> & <dbl> & <dbl> & <dbl> & <chr>\\\\\n\\hline\n\t FA-2015-1  & 2015-05-18 & 2015-05-25 &  7 & Standard Class & Fashion & T - Shirts & 248 & 3 & 0.03 & 145.68 & 14.568 & High\\\\\n\t FA-2015-12 & 2015-06-19 & 2015-06-29 & 10 & Standard Class & Fashion & T - Shirts & 248 & 5 & 0.02 & 143.20 & 14.320 & Low \\\\\n\t FA-2015-23 & 2015-02-17 & 2015-02-22 &  5 & Standard Class & Fashion & T - Shirts & 248 & 1 & 0.04 & 158.08 & 15.808 & High\\\\\n\t FA-2015-34 & 2015-02-25 & 2015-03-03 &  6 & Standard Class & Fashion & T - Shirts & 248 & 3 & 0.04 & 138.24 & 13.824 & Low \\\\\n\t FA-2015-45 & 2015-07-09 & 2015-07-11 &  2 & Standard Class & Fashion & T - Shirts & 248 & 3 & 0.01 & 160.56 & 16.056 & Low \\\\\n\\end{tabular}\n",
            "text/plain": [
              "  Order ID   Order Date Shipping Date Aging Ship Mode      Product Category\n",
              "1 FA-2015-1  2015-05-18 2015-05-25     7    Standard Class Fashion         \n",
              "2 FA-2015-12 2015-06-19 2015-06-29    10    Standard Class Fashion         \n",
              "3 FA-2015-23 2015-02-17 2015-02-22     5    Standard Class Fashion         \n",
              "4 FA-2015-34 2015-02-25 2015-03-03     6    Standard Class Fashion         \n",
              "5 FA-2015-45 2015-07-09 2015-07-11     2    Standard Class Fashion         \n",
              "  Product    Sales Quantity Discount Profit Shipping Cost Order Priority\n",
              "1 T - Shirts 248   3        0.03     145.68 14.568        High          \n",
              "2 T - Shirts 248   5        0.02     143.20 14.320        Low           \n",
              "3 T - Shirts 248   1        0.04     158.08 15.808        High          \n",
              "4 T - Shirts 248   3        0.04     138.24 13.824        Low           \n",
              "5 T - Shirts 248   3        0.01     160.56 16.056        Low           "
            ]
          },
          "metadata": {}
        }
      ]
    },
    {
      "cell_type": "code",
      "source": [
        "# Replace missing values in the 'Profit' column with the mean excluding the missing values of that column\n",
        "fashion_sales_df$Profit[is.na(fashion_sales_df$Profit)] <- mean(fashion_sales_df$Profit, na.rm = TRUE)"
      ],
      "metadata": {
        "id": "ga91DPg4l_79"
      },
      "execution_count": null,
      "outputs": []
    },
    {
      "cell_type": "code",
      "source": [
        "print(\"After operation\")#  After\n",
        "head(fashion_sales_df, n = 5)"
      ],
      "metadata": {
        "colab": {
          "base_uri": "https://localhost:8080/",
          "height": 273
        },
        "id": "Gw17IK1DnPGO",
        "outputId": "85b96543-0c4f-4f73-c7d3-942956790c67"
      },
      "execution_count": null,
      "outputs": [
        {
          "output_type": "stream",
          "name": "stdout",
          "text": [
            "[1] \"After operation\"\n"
          ]
        },
        {
          "output_type": "display_data",
          "data": {
            "text/html": [
              "<table class=\"dataframe\">\n",
              "<caption>A tibble: 5 × 13</caption>\n",
              "<thead>\n",
              "\t<tr><th scope=col>Order ID</th><th scope=col>Order Date</th><th scope=col>Shipping Date</th><th scope=col>Aging</th><th scope=col>Ship Mode</th><th scope=col>Product Category</th><th scope=col>Product</th><th scope=col>Sales</th><th scope=col>Quantity</th><th scope=col>Discount</th><th scope=col>Profit</th><th scope=col>Shipping Cost</th><th scope=col>Order Priority</th></tr>\n",
              "\t<tr><th scope=col>&lt;chr&gt;</th><th scope=col>&lt;dttm&gt;</th><th scope=col>&lt;dttm&gt;</th><th scope=col>&lt;dbl&gt;</th><th scope=col>&lt;chr&gt;</th><th scope=col>&lt;chr&gt;</th><th scope=col>&lt;chr&gt;</th><th scope=col>&lt;dbl&gt;</th><th scope=col>&lt;dbl&gt;</th><th scope=col>&lt;dbl&gt;</th><th scope=col>&lt;dbl&gt;</th><th scope=col>&lt;dbl&gt;</th><th scope=col>&lt;chr&gt;</th></tr>\n",
              "</thead>\n",
              "<tbody>\n",
              "\t<tr><td>FA-2015-1 </td><td>2015-05-18</td><td>2015-05-25</td><td> 7</td><td>Standard Class</td><td>Fashion</td><td>T - Shirts</td><td>248</td><td>3</td><td>0.03</td><td>145.68</td><td>14.568</td><td>High</td></tr>\n",
              "\t<tr><td>FA-2015-12</td><td>2015-06-19</td><td>2015-06-29</td><td>10</td><td>Standard Class</td><td>Fashion</td><td>T - Shirts</td><td>248</td><td>5</td><td>0.02</td><td>143.20</td><td>14.320</td><td>Low </td></tr>\n",
              "\t<tr><td>FA-2015-23</td><td>2015-02-17</td><td>2015-02-22</td><td> 5</td><td>Standard Class</td><td>Fashion</td><td>T - Shirts</td><td>248</td><td>1</td><td>0.04</td><td>158.08</td><td>15.808</td><td>High</td></tr>\n",
              "\t<tr><td>FA-2015-34</td><td>2015-02-25</td><td>2015-03-03</td><td> 6</td><td>Standard Class</td><td>Fashion</td><td>T - Shirts</td><td>248</td><td>3</td><td>0.04</td><td>138.24</td><td>13.824</td><td>Low </td></tr>\n",
              "\t<tr><td>FA-2015-45</td><td>2015-07-09</td><td>2015-07-11</td><td> 2</td><td>Standard Class</td><td>Fashion</td><td>T - Shirts</td><td>248</td><td>3</td><td>0.01</td><td>160.56</td><td>16.056</td><td>Low </td></tr>\n",
              "</tbody>\n",
              "</table>\n"
            ],
            "text/markdown": "\nA tibble: 5 × 13\n\n| Order ID &lt;chr&gt; | Order Date &lt;dttm&gt; | Shipping Date &lt;dttm&gt; | Aging &lt;dbl&gt; | Ship Mode &lt;chr&gt; | Product Category &lt;chr&gt; | Product &lt;chr&gt; | Sales &lt;dbl&gt; | Quantity &lt;dbl&gt; | Discount &lt;dbl&gt; | Profit &lt;dbl&gt; | Shipping Cost &lt;dbl&gt; | Order Priority &lt;chr&gt; |\n|---|---|---|---|---|---|---|---|---|---|---|---|---|\n| FA-2015-1  | 2015-05-18 | 2015-05-25 |  7 | Standard Class | Fashion | T - Shirts | 248 | 3 | 0.03 | 145.68 | 14.568 | High |\n| FA-2015-12 | 2015-06-19 | 2015-06-29 | 10 | Standard Class | Fashion | T - Shirts | 248 | 5 | 0.02 | 143.20 | 14.320 | Low  |\n| FA-2015-23 | 2015-02-17 | 2015-02-22 |  5 | Standard Class | Fashion | T - Shirts | 248 | 1 | 0.04 | 158.08 | 15.808 | High |\n| FA-2015-34 | 2015-02-25 | 2015-03-03 |  6 | Standard Class | Fashion | T - Shirts | 248 | 3 | 0.04 | 138.24 | 13.824 | Low  |\n| FA-2015-45 | 2015-07-09 | 2015-07-11 |  2 | Standard Class | Fashion | T - Shirts | 248 | 3 | 0.01 | 160.56 | 16.056 | Low  |\n\n",
            "text/latex": "A tibble: 5 × 13\n\\begin{tabular}{lllllllllllll}\n Order ID & Order Date & Shipping Date & Aging & Ship Mode & Product Category & Product & Sales & Quantity & Discount & Profit & Shipping Cost & Order Priority\\\\\n <chr> & <dttm> & <dttm> & <dbl> & <chr> & <chr> & <chr> & <dbl> & <dbl> & <dbl> & <dbl> & <dbl> & <chr>\\\\\n\\hline\n\t FA-2015-1  & 2015-05-18 & 2015-05-25 &  7 & Standard Class & Fashion & T - Shirts & 248 & 3 & 0.03 & 145.68 & 14.568 & High\\\\\n\t FA-2015-12 & 2015-06-19 & 2015-06-29 & 10 & Standard Class & Fashion & T - Shirts & 248 & 5 & 0.02 & 143.20 & 14.320 & Low \\\\\n\t FA-2015-23 & 2015-02-17 & 2015-02-22 &  5 & Standard Class & Fashion & T - Shirts & 248 & 1 & 0.04 & 158.08 & 15.808 & High\\\\\n\t FA-2015-34 & 2015-02-25 & 2015-03-03 &  6 & Standard Class & Fashion & T - Shirts & 248 & 3 & 0.04 & 138.24 & 13.824 & Low \\\\\n\t FA-2015-45 & 2015-07-09 & 2015-07-11 &  2 & Standard Class & Fashion & T - Shirts & 248 & 3 & 0.01 & 160.56 & 16.056 & Low \\\\\n\\end{tabular}\n",
            "text/plain": [
              "  Order ID   Order Date Shipping Date Aging Ship Mode      Product Category\n",
              "1 FA-2015-1  2015-05-18 2015-05-25     7    Standard Class Fashion         \n",
              "2 FA-2015-12 2015-06-19 2015-06-29    10    Standard Class Fashion         \n",
              "3 FA-2015-23 2015-02-17 2015-02-22     5    Standard Class Fashion         \n",
              "4 FA-2015-34 2015-02-25 2015-03-03     6    Standard Class Fashion         \n",
              "5 FA-2015-45 2015-07-09 2015-07-11     2    Standard Class Fashion         \n",
              "  Product    Sales Quantity Discount Profit Shipping Cost Order Priority\n",
              "1 T - Shirts 248   3        0.03     145.68 14.568        High          \n",
              "2 T - Shirts 248   5        0.02     143.20 14.320        Low           \n",
              "3 T - Shirts 248   1        0.04     158.08 15.808        High          \n",
              "4 T - Shirts 248   3        0.04     138.24 13.824        Low           \n",
              "5 T - Shirts 248   3        0.01     160.56 16.056        Low           "
            ]
          },
          "metadata": {}
        }
      ]
    },
    {
      "cell_type": "markdown",
      "source": [
        "###(Question 5)"
      ],
      "metadata": {
        "id": "gOVKmKGKWFSS"
      }
    },
    {
      "cell_type": "code",
      "source": [
        "# Remove rows where 'Order Priority' is missing by selecting and reassigning rows that the Order Priority column has only non-missing values\n",
        "fashion_sales_df_clean <- fashion_sales_df[!is.na(fashion_sales_df$`Order Priority`), ]\n",
        "\n",
        "num_removed_row = nrow(fashion_sales_df) - nrow(fashion_sales_df_clean) # substract the number of rows in original dataset by the number of ones updated\n",
        "print(paste(\"The number of row removed:\",num_removed_row))"
      ],
      "metadata": {
        "colab": {
          "base_uri": "https://localhost:8080/"
        },
        "id": "gTu2uiASu2ek",
        "outputId": "7babc502-3719-4c15-a05d-7b29b682ed28"
      },
      "execution_count": null,
      "outputs": [
        {
          "output_type": "stream",
          "name": "stdout",
          "text": [
            "[1] \"The number of row removed: 12\"\n"
          ]
        }
      ]
    },
    {
      "cell_type": "markdown",
      "source": [
        "In addition, accoding to the question 3, \"Order priority\" column has 12 missing values. Thefore, I can know rows that have missing values successfuly deleted if 12 rows has been removed."
      ],
      "metadata": {
        "id": "wuhuWDQNJp5C"
      }
    },
    {
      "cell_type": "markdown",
      "source": [
        "###(Question 6)"
      ],
      "metadata": {
        "id": "VjUhKTi0WIq7"
      }
    },
    {
      "cell_type": "code",
      "source": [
        "# I checked that the data type of Order Date and Shipping Date columns are POSIXct types in question 2, which are not the Date type\n",
        "fashion_sales_df_clean$`Order Date` = as.Date(fashion_sales_df_clean$`Order Date`) # convert all values(column) in Order Date column to Date type\n",
        "fashion_sales_df_clean$`Shipping Date` = as.Date(fashion_sales_df_clean$`Shipping Date`)\n",
        "str(fashion_sales_df_clean) # check whether Order Date and Shipping Date columns successfully turned to Date data types -> confirmed successfully converted"
      ],
      "metadata": {
        "colab": {
          "base_uri": "https://localhost:8080/"
        },
        "id": "fcAaSdv8uWfS",
        "outputId": "ee6260b1-7a9b-4f2e-b3bf-530a6d6f5d99"
      },
      "execution_count": null,
      "outputs": [
        {
          "output_type": "stream",
          "name": "stdout",
          "text": [
            "tibble [839 × 13] (S3: tbl_df/tbl/data.frame)\n",
            " $ Order ID        : chr [1:839] \"FA-2015-1\" \"FA-2015-12\" \"FA-2015-23\" \"FA-2015-34\" ...\n",
            " $ Order Date      : Date[1:839], format: \"2015-05-18\" \"2015-06-19\" ...\n",
            " $ Shipping Date   : Date[1:839], format: \"2015-05-25\" \"2015-06-29\" ...\n",
            " $ Aging           : num [1:839] 7 10 5 6 2 5 7 3 7 5 ...\n",
            " $ Ship Mode       : chr [1:839] \"Standard Class\" \"Standard Class\" \"Standard Class\" \"Standard Class\" ...\n",
            " $ Product Category: chr [1:839] \"Fashion\" \"Fashion\" \"Fashion\" \"Fashion\" ...\n",
            " $ Product         : chr [1:839] \"T - Shirts\" \"T - Shirts\" \"T - Shirts\" \"T - Shirts\" ...\n",
            " $ Sales           : num [1:839] 248 248 248 248 248 248 248 248 248 248 ...\n",
            " $ Quantity        : num [1:839] 3 5 1 3 3 3 3 4 2 3 ...\n",
            " $ Discount        : num [1:839] 0.03 0.02 0.04 0.04 0.01 0.01 0.03 0.01 0.03 0.02 ...\n",
            " $ Profit          : num [1:839] 146 143 158 138 161 ...\n",
            " $ Shipping Cost   : num [1:839] 14.6 14.3 15.8 13.8 16.1 ...\n",
            " $ Order Priority  : chr [1:839] \"High\" \"Low\" \"High\" \"Low\" ...\n"
          ]
        }
      ]
    },
    {
      "cell_type": "markdown",
      "source": [
        "###(Question 7)"
      ],
      "metadata": {
        "id": "zWblz0iNV_Os"
      }
    },
    {
      "cell_type": "code",
      "source": [
        "fashion_sales_df_clean$`Shipping Duration` <- as.numeric(fashion_sales_df_clean$`Shipping Date` - fashion_sales_df_clean$`Order Date`)\n",
        "# Other columns don't have units such as \"years old\", \"$\" for cost, so convert shipping duration as numeric values to remove \"days\" notation.\n",
        "#Add new column specifying the new column name and assign the expression(calculation) that shows the shipping days taken (= difference b/w shipping date and order date)\n",
        "print(paste(\"The number of columns:\", ncol(fashion_sales_df_clean))) # check total number of col to confirm new col has been added(13 to 14)\n",
        "head(fashion_sales_df_clean, n = 10)# confirm new col(Shipping Duration) has been added from visualization"
      ],
      "metadata": {
        "colab": {
          "base_uri": "https://localhost:8080/",
          "height": 620
        },
        "id": "_nJtYwAbDIdd",
        "outputId": "e3675d19-f7b1-485f-c8d0-fc22affa8d2a"
      },
      "execution_count": null,
      "outputs": [
        {
          "output_type": "stream",
          "name": "stdout",
          "text": [
            "[1] \"The number of columns: 14\"\n"
          ]
        },
        {
          "output_type": "display_data",
          "data": {
            "text/html": [
              "<table class=\"dataframe\">\n",
              "<caption>A tibble: 10 × 14</caption>\n",
              "<thead>\n",
              "\t<tr><th scope=col>Order ID</th><th scope=col>Order Date</th><th scope=col>Shipping Date</th><th scope=col>Aging</th><th scope=col>Ship Mode</th><th scope=col>Product Category</th><th scope=col>Product</th><th scope=col>Sales</th><th scope=col>Quantity</th><th scope=col>Discount</th><th scope=col>Profit</th><th scope=col>Shipping Cost</th><th scope=col>Order Priority</th><th scope=col>Shipping Duration</th></tr>\n",
              "\t<tr><th scope=col>&lt;chr&gt;</th><th scope=col>&lt;date&gt;</th><th scope=col>&lt;date&gt;</th><th scope=col>&lt;dbl&gt;</th><th scope=col>&lt;chr&gt;</th><th scope=col>&lt;chr&gt;</th><th scope=col>&lt;chr&gt;</th><th scope=col>&lt;dbl&gt;</th><th scope=col>&lt;dbl&gt;</th><th scope=col>&lt;dbl&gt;</th><th scope=col>&lt;dbl&gt;</th><th scope=col>&lt;dbl&gt;</th><th scope=col>&lt;chr&gt;</th><th scope=col>&lt;dbl&gt;</th></tr>\n",
              "</thead>\n",
              "<tbody>\n",
              "\t<tr><td>FA-2015-1  </td><td>2015-05-18</td><td>2015-05-25</td><td> 7</td><td>Standard Class</td><td>Fashion</td><td>T - Shirts</td><td>248</td><td>3</td><td>0.03</td><td>145.68</td><td>14.568</td><td>High  </td><td> 7</td></tr>\n",
              "\t<tr><td>FA-2015-12 </td><td>2015-06-19</td><td>2015-06-29</td><td>10</td><td>Standard Class</td><td>Fashion</td><td>T - Shirts</td><td>248</td><td>5</td><td>0.02</td><td>143.20</td><td>14.320</td><td>Low   </td><td>10</td></tr>\n",
              "\t<tr><td>FA-2015-23 </td><td>2015-02-17</td><td>2015-02-22</td><td> 5</td><td>Standard Class</td><td>Fashion</td><td>T - Shirts</td><td>248</td><td>1</td><td>0.04</td><td>158.08</td><td>15.808</td><td>High  </td><td> 5</td></tr>\n",
              "\t<tr><td>FA-2015-34 </td><td>2015-02-25</td><td>2015-03-03</td><td> 6</td><td>Standard Class</td><td>Fashion</td><td>T - Shirts</td><td>248</td><td>3</td><td>0.04</td><td>138.24</td><td>13.824</td><td>Low   </td><td> 6</td></tr>\n",
              "\t<tr><td>FA-2015-45 </td><td>2015-07-09</td><td>2015-07-11</td><td> 2</td><td>Standard Class</td><td>Fashion</td><td>T - Shirts</td><td>248</td><td>3</td><td>0.01</td><td>160.56</td><td>16.056</td><td>Low   </td><td> 2</td></tr>\n",
              "\t<tr><td>FA-2015-56 </td><td>2015-06-05</td><td>2015-06-10</td><td> 5</td><td>Standard Class</td><td>Fashion</td><td>T - Shirts</td><td>248</td><td>3</td><td>0.01</td><td>160.56</td><td>16.056</td><td>High  </td><td> 5</td></tr>\n",
              "\t<tr><td>FA-2015-67 </td><td>2015-10-11</td><td>2015-10-18</td><td> 7</td><td>Standard Class</td><td>Fashion</td><td>T - Shirts</td><td>248</td><td>3</td><td>0.03</td><td>145.68</td><td>14.568</td><td>Medium</td><td> 7</td></tr>\n",
              "\t<tr><td>FA-2015-78 </td><td>2015-02-14</td><td>2015-02-17</td><td> 3</td><td>Standard Class</td><td>Fashion</td><td>T - Shirts</td><td>248</td><td>4</td><td>0.01</td><td>158.08</td><td>15.808</td><td>High  </td><td> 3</td></tr>\n",
              "\t<tr><td>FA-2015-89 </td><td>2015-07-30</td><td>2015-08-06</td><td> 7</td><td>Standard Class</td><td>Fashion</td><td>T - Shirts</td><td>248</td><td>2</td><td>0.03</td><td>153.12</td><td>15.312</td><td>High  </td><td> 7</td></tr>\n",
              "\t<tr><td>FA-2015-100</td><td>2015-12-16</td><td>2015-12-21</td><td> 5</td><td>Standard Class</td><td>Fashion</td><td>T - Shirts</td><td>248</td><td>3</td><td>0.02</td><td>153.12</td><td>15.312</td><td>High  </td><td> 5</td></tr>\n",
              "</tbody>\n",
              "</table>\n"
            ],
            "text/markdown": "\nA tibble: 10 × 14\n\n| Order ID &lt;chr&gt; | Order Date &lt;date&gt; | Shipping Date &lt;date&gt; | Aging &lt;dbl&gt; | Ship Mode &lt;chr&gt; | Product Category &lt;chr&gt; | Product &lt;chr&gt; | Sales &lt;dbl&gt; | Quantity &lt;dbl&gt; | Discount &lt;dbl&gt; | Profit &lt;dbl&gt; | Shipping Cost &lt;dbl&gt; | Order Priority &lt;chr&gt; | Shipping Duration &lt;dbl&gt; |\n|---|---|---|---|---|---|---|---|---|---|---|---|---|---|\n| FA-2015-1   | 2015-05-18 | 2015-05-25 |  7 | Standard Class | Fashion | T - Shirts | 248 | 3 | 0.03 | 145.68 | 14.568 | High   |  7 |\n| FA-2015-12  | 2015-06-19 | 2015-06-29 | 10 | Standard Class | Fashion | T - Shirts | 248 | 5 | 0.02 | 143.20 | 14.320 | Low    | 10 |\n| FA-2015-23  | 2015-02-17 | 2015-02-22 |  5 | Standard Class | Fashion | T - Shirts | 248 | 1 | 0.04 | 158.08 | 15.808 | High   |  5 |\n| FA-2015-34  | 2015-02-25 | 2015-03-03 |  6 | Standard Class | Fashion | T - Shirts | 248 | 3 | 0.04 | 138.24 | 13.824 | Low    |  6 |\n| FA-2015-45  | 2015-07-09 | 2015-07-11 |  2 | Standard Class | Fashion | T - Shirts | 248 | 3 | 0.01 | 160.56 | 16.056 | Low    |  2 |\n| FA-2015-56  | 2015-06-05 | 2015-06-10 |  5 | Standard Class | Fashion | T - Shirts | 248 | 3 | 0.01 | 160.56 | 16.056 | High   |  5 |\n| FA-2015-67  | 2015-10-11 | 2015-10-18 |  7 | Standard Class | Fashion | T - Shirts | 248 | 3 | 0.03 | 145.68 | 14.568 | Medium |  7 |\n| FA-2015-78  | 2015-02-14 | 2015-02-17 |  3 | Standard Class | Fashion | T - Shirts | 248 | 4 | 0.01 | 158.08 | 15.808 | High   |  3 |\n| FA-2015-89  | 2015-07-30 | 2015-08-06 |  7 | Standard Class | Fashion | T - Shirts | 248 | 2 | 0.03 | 153.12 | 15.312 | High   |  7 |\n| FA-2015-100 | 2015-12-16 | 2015-12-21 |  5 | Standard Class | Fashion | T - Shirts | 248 | 3 | 0.02 | 153.12 | 15.312 | High   |  5 |\n\n",
            "text/latex": "A tibble: 10 × 14\n\\begin{tabular}{llllllllllllll}\n Order ID & Order Date & Shipping Date & Aging & Ship Mode & Product Category & Product & Sales & Quantity & Discount & Profit & Shipping Cost & Order Priority & Shipping Duration\\\\\n <chr> & <date> & <date> & <dbl> & <chr> & <chr> & <chr> & <dbl> & <dbl> & <dbl> & <dbl> & <dbl> & <chr> & <dbl>\\\\\n\\hline\n\t FA-2015-1   & 2015-05-18 & 2015-05-25 &  7 & Standard Class & Fashion & T - Shirts & 248 & 3 & 0.03 & 145.68 & 14.568 & High   &  7\\\\\n\t FA-2015-12  & 2015-06-19 & 2015-06-29 & 10 & Standard Class & Fashion & T - Shirts & 248 & 5 & 0.02 & 143.20 & 14.320 & Low    & 10\\\\\n\t FA-2015-23  & 2015-02-17 & 2015-02-22 &  5 & Standard Class & Fashion & T - Shirts & 248 & 1 & 0.04 & 158.08 & 15.808 & High   &  5\\\\\n\t FA-2015-34  & 2015-02-25 & 2015-03-03 &  6 & Standard Class & Fashion & T - Shirts & 248 & 3 & 0.04 & 138.24 & 13.824 & Low    &  6\\\\\n\t FA-2015-45  & 2015-07-09 & 2015-07-11 &  2 & Standard Class & Fashion & T - Shirts & 248 & 3 & 0.01 & 160.56 & 16.056 & Low    &  2\\\\\n\t FA-2015-56  & 2015-06-05 & 2015-06-10 &  5 & Standard Class & Fashion & T - Shirts & 248 & 3 & 0.01 & 160.56 & 16.056 & High   &  5\\\\\n\t FA-2015-67  & 2015-10-11 & 2015-10-18 &  7 & Standard Class & Fashion & T - Shirts & 248 & 3 & 0.03 & 145.68 & 14.568 & Medium &  7\\\\\n\t FA-2015-78  & 2015-02-14 & 2015-02-17 &  3 & Standard Class & Fashion & T - Shirts & 248 & 4 & 0.01 & 158.08 & 15.808 & High   &  3\\\\\n\t FA-2015-89  & 2015-07-30 & 2015-08-06 &  7 & Standard Class & Fashion & T - Shirts & 248 & 2 & 0.03 & 153.12 & 15.312 & High   &  7\\\\\n\t FA-2015-100 & 2015-12-16 & 2015-12-21 &  5 & Standard Class & Fashion & T - Shirts & 248 & 3 & 0.02 & 153.12 & 15.312 & High   &  5\\\\\n\\end{tabular}\n",
            "text/plain": [
              "   Order ID    Order Date Shipping Date Aging Ship Mode      Product Category\n",
              "1  FA-2015-1   2015-05-18 2015-05-25     7    Standard Class Fashion         \n",
              "2  FA-2015-12  2015-06-19 2015-06-29    10    Standard Class Fashion         \n",
              "3  FA-2015-23  2015-02-17 2015-02-22     5    Standard Class Fashion         \n",
              "4  FA-2015-34  2015-02-25 2015-03-03     6    Standard Class Fashion         \n",
              "5  FA-2015-45  2015-07-09 2015-07-11     2    Standard Class Fashion         \n",
              "6  FA-2015-56  2015-06-05 2015-06-10     5    Standard Class Fashion         \n",
              "7  FA-2015-67  2015-10-11 2015-10-18     7    Standard Class Fashion         \n",
              "8  FA-2015-78  2015-02-14 2015-02-17     3    Standard Class Fashion         \n",
              "9  FA-2015-89  2015-07-30 2015-08-06     7    Standard Class Fashion         \n",
              "10 FA-2015-100 2015-12-16 2015-12-21     5    Standard Class Fashion         \n",
              "   Product    Sales Quantity Discount Profit Shipping Cost Order Priority\n",
              "1  T - Shirts 248   3        0.03     145.68 14.568        High          \n",
              "2  T - Shirts 248   5        0.02     143.20 14.320        Low           \n",
              "3  T - Shirts 248   1        0.04     158.08 15.808        High          \n",
              "4  T - Shirts 248   3        0.04     138.24 13.824        Low           \n",
              "5  T - Shirts 248   3        0.01     160.56 16.056        Low           \n",
              "6  T - Shirts 248   3        0.01     160.56 16.056        High          \n",
              "7  T - Shirts 248   3        0.03     145.68 14.568        Medium        \n",
              "8  T - Shirts 248   4        0.01     158.08 15.808        High          \n",
              "9  T - Shirts 248   2        0.03     153.12 15.312        High          \n",
              "10 T - Shirts 248   3        0.02     153.12 15.312        High          \n",
              "   Shipping Duration\n",
              "1   7               \n",
              "2  10               \n",
              "3   5               \n",
              "4   6               \n",
              "5   2               \n",
              "6   5               \n",
              "7   7               \n",
              "8   3               \n",
              "9   7               \n",
              "10  5               "
            ]
          },
          "metadata": {}
        }
      ]
    },
    {
      "cell_type": "markdown",
      "source": [
        "###(Question 8)"
      ],
      "metadata": {
        "id": "IZDanAykV75M"
      }
    },
    {
      "cell_type": "code",
      "source": [
        "typeof(fashion_sales_df_clean$`Shipping Duration`) # found that the data type of Shipping Duration (result of calculation, date - date) is double"
      ],
      "metadata": {
        "colab": {
          "base_uri": "https://localhost:8080/",
          "height": 34
        },
        "id": "L4S0N1AGzLJT",
        "outputId": "46b9e556-df38-47b7-b159-a51430852fac"
      },
      "execution_count": null,
      "outputs": [
        {
          "output_type": "display_data",
          "data": {
            "text/html": [
              "'double'"
            ],
            "text/markdown": "'double'",
            "text/latex": "'double'",
            "text/plain": [
              "[1] \"double\""
            ]
          },
          "metadata": {}
        }
      ]
    },
    {
      "cell_type": "markdown",
      "source": [
        "Therefore,conditional statement using number such as \"greater than 7 \" can be applied to Shipping duration\" column."
      ],
      "metadata": {
        "id": "WrcmjgBiNYqL"
      }
    },
    {
      "cell_type": "code",
      "source": [
        "greater_than_7_days = subset(fashion_sales_df_clean, `Shipping Duration` > 7)\n",
        "# extract the rows that fulfill the condition, which Shipping duration is greater than 7 days\n",
        "greater_than_7_days # display all data that is greater than 7 days"
      ],
      "metadata": {
        "colab": {
          "base_uri": "https://localhost:8080/",
          "height": 1000
        },
        "id": "_U8EYNsCHLG0",
        "outputId": "f49fb337-6c12-488d-e695-62510dafca7e"
      },
      "execution_count": null,
      "outputs": [
        {
          "output_type": "display_data",
          "data": {
            "text/html": [
              "<table class=\"dataframe\">\n",
              "<caption>A tibble: 248 × 14</caption>\n",
              "<thead>\n",
              "\t<tr><th scope=col>Order ID</th><th scope=col>Order Date</th><th scope=col>Shipping Date</th><th scope=col>Aging</th><th scope=col>Ship Mode</th><th scope=col>Product Category</th><th scope=col>Product</th><th scope=col>Sales</th><th scope=col>Quantity</th><th scope=col>Discount</th><th scope=col>Profit</th><th scope=col>Shipping Cost</th><th scope=col>Order Priority</th><th scope=col>Shipping Duration</th></tr>\n",
              "\t<tr><th scope=col>&lt;chr&gt;</th><th scope=col>&lt;date&gt;</th><th scope=col>&lt;date&gt;</th><th scope=col>&lt;dbl&gt;</th><th scope=col>&lt;chr&gt;</th><th scope=col>&lt;chr&gt;</th><th scope=col>&lt;chr&gt;</th><th scope=col>&lt;dbl&gt;</th><th scope=col>&lt;dbl&gt;</th><th scope=col>&lt;dbl&gt;</th><th scope=col>&lt;dbl&gt;</th><th scope=col>&lt;dbl&gt;</th><th scope=col>&lt;chr&gt;</th><th scope=col>&lt;dbl&gt;</th></tr>\n",
              "</thead>\n",
              "<tbody>\n",
              "\t<tr><td>FA-2015-12  </td><td>2015-06-19</td><td>2015-06-29</td><td>10</td><td>Standard Class</td><td>Fashion</td><td>T - Shirts</td><td>248</td><td>5</td><td>0.02</td><td>143.2000</td><td>14.320</td><td>Low   </td><td>10</td></tr>\n",
              "\t<tr><td>FA-2015-210 </td><td>2015-04-11</td><td>2015-04-20</td><td> 9</td><td>Standard Class</td><td>Fashion</td><td>T - Shirts</td><td>248</td><td>3</td><td>0.01</td><td>160.5600</td><td>16.056</td><td>Medium</td><td> 9</td></tr>\n",
              "\t<tr><td>FA-2015-221 </td><td>2015-10-15</td><td>2015-10-24</td><td> 9</td><td>Standard Class</td><td>Fashion</td><td>T - Shirts</td><td>248</td><td>4</td><td>0.05</td><td>145.7642</td><td>11.840</td><td>High  </td><td> 9</td></tr>\n",
              "\t<tr><td>FA-2015-232 </td><td>2015-07-24</td><td>2015-08-01</td><td> 8</td><td>Standard Class</td><td>Fashion</td><td>T - Shirts</td><td>248</td><td>1</td><td>0.02</td><td>145.7642</td><td>16.304</td><td>High  </td><td> 8</td></tr>\n",
              "\t<tr><td>FA-2015-265 </td><td>2015-08-11</td><td>2015-08-20</td><td> 9</td><td>Standard Class</td><td>Fashion</td><td>T - Shirts</td><td>248</td><td>1</td><td>0.04</td><td>145.7642</td><td>15.808</td><td>High  </td><td> 9</td></tr>\n",
              "\t<tr><td>FA-2015-287 </td><td>2015-08-28</td><td>2015-09-06</td><td> 9</td><td>Standard Class</td><td>Fashion</td><td>T - Shirts</td><td>248</td><td>3</td><td>0.01</td><td>145.7642</td><td>16.056</td><td>Medium</td><td> 9</td></tr>\n",
              "\t<tr><td>FA-2015-331 </td><td>2015-09-13</td><td>2015-09-22</td><td> 9</td><td>Standard Class</td><td>Fashion</td><td>T - Shirts</td><td>248</td><td>5</td><td>0.01</td><td>145.7642</td><td>15.560</td><td>Medium</td><td> 9</td></tr>\n",
              "\t<tr><td>FA-2015-408 </td><td>2015-07-25</td><td>2015-08-03</td><td> 9</td><td>Standard Class</td><td>Fashion</td><td>T - Shirts</td><td>248</td><td>2</td><td>0.03</td><td>145.7642</td><td>15.312</td><td>Medium</td><td> 9</td></tr>\n",
              "\t<tr><td>FA-2015-419 </td><td>2015-05-15</td><td>2015-05-24</td><td> 9</td><td>Standard Class</td><td>Fashion</td><td>T - Shirts</td><td>248</td><td>3</td><td>0.04</td><td>145.7642</td><td>13.824</td><td>Low   </td><td> 9</td></tr>\n",
              "\t<tr><td>FA-2015-485 </td><td>2015-08-09</td><td>2015-08-19</td><td>10</td><td>Standard Class</td><td>Fashion</td><td>T - Shirts</td><td>248</td><td>2</td><td>0.03</td><td>145.7642</td><td>15.312</td><td>Medium</td><td>10</td></tr>\n",
              "\t<tr><td>FA-2015-551 </td><td>2015-12-16</td><td>2015-12-24</td><td> 8</td><td>Standard Class</td><td>Fashion</td><td>T - Shirts</td><td>248</td><td>4</td><td>0.02</td><td>148.1600</td><td>14.816</td><td>Medium</td><td> 8</td></tr>\n",
              "\t<tr><td>FA-2015-683 </td><td>2015-08-26</td><td>2015-09-04</td><td> 9</td><td>Standard Class</td><td>Fashion</td><td>T - Shirts</td><td>248</td><td>3</td><td>0.04</td><td>138.2400</td><td>13.824</td><td>Medium</td><td> 9</td></tr>\n",
              "\t<tr><td>FA-2015-705 </td><td>2015-04-05</td><td>2015-04-13</td><td> 8</td><td>Standard Class</td><td>Fashion</td><td>T - Shirts</td><td>248</td><td>5</td><td>0.04</td><td>118.4000</td><td>11.840</td><td>High  </td><td> 8</td></tr>\n",
              "\t<tr><td>FA-2015-738 </td><td>2015-04-29</td><td>2015-05-09</td><td>10</td><td>Standard Class</td><td>Fashion</td><td>T - Shirts</td><td>248</td><td>2</td><td>0.04</td><td>148.1600</td><td>14.816</td><td>Medium</td><td>10</td></tr>\n",
              "\t<tr><td>FA-2015-881 </td><td>2015-07-19</td><td>2015-07-27</td><td> 8</td><td>Standard Class</td><td>Fashion</td><td>T - Shirts</td><td>248</td><td>3</td><td>0.05</td><td>130.8000</td><td>13.080</td><td>High  </td><td> 8</td></tr>\n",
              "\t<tr><td>FA-2015-936 </td><td>2015-05-31</td><td>2015-06-08</td><td> 8</td><td>Standard Class</td><td>Fashion</td><td>T - Shirts</td><td>248</td><td>1</td><td>0.04</td><td>158.0800</td><td>15.808</td><td>Low   </td><td> 8</td></tr>\n",
              "\t<tr><td>FA-2015-958 </td><td>2015-05-11</td><td>2015-05-21</td><td>10</td><td>Standard Class</td><td>Fashion</td><td>T - Shirts</td><td>248</td><td>5</td><td>0.05</td><td>106.0000</td><td>10.600</td><td>Medium</td><td>10</td></tr>\n",
              "\t<tr><td>FA-2015-1013</td><td>2015-03-09</td><td>2015-03-19</td><td>10</td><td>Standard Class</td><td>Fashion</td><td>T - Shirts</td><td>248</td><td>3</td><td>0.05</td><td>130.8000</td><td>13.080</td><td>Medium</td><td>10</td></tr>\n",
              "\t<tr><td>FA-2015-1024</td><td>2015-01-20</td><td>2015-01-30</td><td>10</td><td>Standard Class</td><td>Fashion</td><td>T - Shirts</td><td>248</td><td>4</td><td>0.01</td><td>158.0800</td><td>15.808</td><td>Low   </td><td>10</td></tr>\n",
              "\t<tr><td>FA-2015-1057</td><td>2015-03-26</td><td>2015-04-04</td><td> 9</td><td>Standard Class</td><td>Fashion</td><td>T - Shirts</td><td>248</td><td>2</td><td>0.04</td><td>148.1600</td><td>14.816</td><td>Medium</td><td> 9</td></tr>\n",
              "\t<tr><td>FA-2015-1090</td><td>2015-04-28</td><td>2015-05-08</td><td>10</td><td>Standard Class</td><td>Fashion</td><td>T - Shirts</td><td>248</td><td>5</td><td>0.05</td><td>106.0000</td><td>10.600</td><td>Medium</td><td>10</td></tr>\n",
              "\t<tr><td>FA-2015-1189</td><td>2015-04-27</td><td>2015-05-06</td><td> 9</td><td>Standard Class</td><td>Fashion</td><td>T - Shirts</td><td>248</td><td>5</td><td>0.01</td><td>155.6000</td><td>15.560</td><td>Medium</td><td> 9</td></tr>\n",
              "\t<tr><td>FA-2015-1211</td><td>2015-09-13</td><td>2015-09-23</td><td>10</td><td>Standard Class</td><td>Fashion</td><td>T - Shirts</td><td>248</td><td>5</td><td>0.05</td><td>106.0000</td><td>10.600</td><td>High  </td><td>10</td></tr>\n",
              "\t<tr><td>FA-2015-1332</td><td>2015-09-19</td><td>2015-09-27</td><td> 8</td><td>Standard Class</td><td>Fashion</td><td>T - Shirts</td><td>248</td><td>3</td><td>0.05</td><td>130.8000</td><td>13.080</td><td>Medium</td><td> 8</td></tr>\n",
              "\t<tr><td>FA-2015-1343</td><td>2015-06-18</td><td>2015-06-28</td><td>10</td><td>Standard Class</td><td>Fashion</td><td>T - Shirts</td><td>248</td><td>3</td><td>0.04</td><td>138.2400</td><td>13.824</td><td>High  </td><td>10</td></tr>\n",
              "\t<tr><td>FA-2015-1354</td><td>2015-01-06</td><td>2015-01-15</td><td> 9</td><td>Standard Class</td><td>Fashion</td><td>T - Shirts</td><td>248</td><td>4</td><td>0.02</td><td>148.1600</td><td>14.816</td><td>Low   </td><td> 9</td></tr>\n",
              "\t<tr><td>FA-2015-1365</td><td>2015-12-23</td><td>2016-01-01</td><td> 9</td><td>Standard Class</td><td>Fashion</td><td>T - Shirts</td><td>248</td><td>3</td><td>0.02</td><td>153.1200</td><td>15.312</td><td>High  </td><td> 9</td></tr>\n",
              "\t<tr><td>FA-2015-1376</td><td>2015-12-18</td><td>2015-12-26</td><td> 8</td><td>Standard Class</td><td>Fashion</td><td>T - Shirts</td><td>248</td><td>5</td><td>0.03</td><td>130.8000</td><td>13.080</td><td>Medium</td><td> 8</td></tr>\n",
              "\t<tr><td>FA-2015-1387</td><td>2015-05-12</td><td>2015-05-22</td><td>10</td><td>Standard Class</td><td>Fashion</td><td>T - Shirts</td><td>248</td><td>1</td><td>0.04</td><td>158.0800</td><td>15.808</td><td>Medium</td><td>10</td></tr>\n",
              "\t<tr><td>FA-2015-1431</td><td>2015-08-06</td><td>2015-08-14</td><td> 8</td><td>Standard Class</td><td>Fashion</td><td>T - Shirts</td><td>248</td><td>4</td><td>0.04</td><td>128.3200</td><td>12.832</td><td>High  </td><td> 8</td></tr>\n",
              "\t<tr><td>⋮</td><td>⋮</td><td>⋮</td><td>⋮</td><td>⋮</td><td>⋮</td><td>⋮</td><td>⋮</td><td>⋮</td><td>⋮</td><td>⋮</td><td>⋮</td><td>⋮</td><td>⋮</td></tr>\n",
              "\t<tr><td>FA-2015-8339</td><td>2015-06-05</td><td>2015-06-13</td><td> 8</td><td>Standard Class</td><td>Fashion</td><td>T - Shirts</td><td>248</td><td>3</td><td>0.04</td><td>138.24</td><td>13.824</td><td>Medium</td><td> 8</td></tr>\n",
              "\t<tr><td>FA-2015-8361</td><td>2015-10-27</td><td>2015-11-06</td><td>10</td><td>Standard Class</td><td>Fashion</td><td>T - Shirts</td><td>248</td><td>4</td><td>0.03</td><td>138.24</td><td>13.824</td><td>Medium</td><td>10</td></tr>\n",
              "\t<tr><td>FA-2015-8372</td><td>2015-02-26</td><td>2015-03-07</td><td> 9</td><td>Standard Class</td><td>Fashion</td><td>T - Shirts</td><td>248</td><td>3</td><td>0.05</td><td>130.80</td><td>13.080</td><td>High  </td><td> 9</td></tr>\n",
              "\t<tr><td>FA-2015-8416</td><td>2015-01-29</td><td>2015-02-07</td><td> 9</td><td>Standard Class</td><td>Fashion</td><td>T - Shirts</td><td>248</td><td>1</td><td>0.01</td><td>165.52</td><td>16.552</td><td>High  </td><td> 9</td></tr>\n",
              "\t<tr><td>FA-2015-8438</td><td>2015-05-20</td><td>2015-05-30</td><td>10</td><td>Standard Class</td><td>Fashion</td><td>T - Shirts</td><td>248</td><td>2</td><td>0.05</td><td>143.20</td><td>14.320</td><td>Medium</td><td>10</td></tr>\n",
              "\t<tr><td>FA-2015-8515</td><td>2015-05-08</td><td>2015-05-16</td><td> 8</td><td>Standard Class</td><td>Fashion</td><td>T - Shirts</td><td>248</td><td>4</td><td>0.01</td><td>158.08</td><td>15.808</td><td>Medium</td><td> 8</td></tr>\n",
              "\t<tr><td>FA-2015-8548</td><td>2015-06-30</td><td>2015-07-10</td><td>10</td><td>Standard Class</td><td>Fashion</td><td>T - Shirts</td><td>248</td><td>1</td><td>0.04</td><td>158.08</td><td>15.808</td><td>High  </td><td>10</td></tr>\n",
              "\t<tr><td>FA-2015-8570</td><td>2015-08-28</td><td>2015-09-05</td><td> 8</td><td>Standard Class</td><td>Fashion</td><td>T - Shirts</td><td>248</td><td>3</td><td>0.05</td><td>130.80</td><td>13.080</td><td>Low   </td><td> 8</td></tr>\n",
              "\t<tr><td>FA-2015-8592</td><td>2015-12-10</td><td>2015-12-20</td><td>10</td><td>Standard Class</td><td>Fashion</td><td>T - Shirts</td><td>248</td><td>2</td><td>0.03</td><td>153.12</td><td>15.312</td><td>Medium</td><td>10</td></tr>\n",
              "\t<tr><td>FA-2015-8625</td><td>2015-07-03</td><td>2015-07-13</td><td>10</td><td>Standard Class</td><td>Fashion</td><td>T - Shirts</td><td>248</td><td>2</td><td>0.01</td><td>163.04</td><td>16.304</td><td>High  </td><td>10</td></tr>\n",
              "\t<tr><td>FA-2015-8702</td><td>2015-02-21</td><td>2015-03-01</td><td> 8</td><td>Standard Class</td><td>Fashion</td><td>T - Shirts</td><td>248</td><td>4</td><td>0.01</td><td>158.08</td><td>15.808</td><td>Medium</td><td> 8</td></tr>\n",
              "\t<tr><td>FA-2015-8713</td><td>2015-10-20</td><td>2015-10-30</td><td>10</td><td>Standard Class</td><td>Fashion</td><td>T - Shirts</td><td>248</td><td>2</td><td>0.05</td><td>143.20</td><td>14.320</td><td>Medium</td><td>10</td></tr>\n",
              "\t<tr><td>FA-2015-8724</td><td>2015-05-24</td><td>2015-06-02</td><td> 9</td><td>Standard Class</td><td>Fashion</td><td>T - Shirts</td><td>248</td><td>3</td><td>0.03</td><td>145.68</td><td>14.568</td><td>High  </td><td> 9</td></tr>\n",
              "\t<tr><td>FA-2015-8746</td><td>2015-08-13</td><td>2015-08-21</td><td> 8</td><td>Standard Class</td><td>Fashion</td><td>T - Shirts</td><td>248</td><td>3</td><td>0.03</td><td>145.68</td><td>14.568</td><td>Medium</td><td> 8</td></tr>\n",
              "\t<tr><td>FA-2015-8779</td><td>2015-01-17</td><td>2015-01-25</td><td> 8</td><td>Standard Class</td><td>Fashion</td><td>T - Shirts</td><td>248</td><td>5</td><td>0.02</td><td>143.20</td><td>14.320</td><td>Medium</td><td> 8</td></tr>\n",
              "\t<tr><td>FA-2015-8801</td><td>2015-05-29</td><td>2015-06-08</td><td>10</td><td>Standard Class</td><td>Fashion</td><td>T - Shirts</td><td>248</td><td>2</td><td>0.02</td><td>158.08</td><td>15.808</td><td>High  </td><td>10</td></tr>\n",
              "\t<tr><td>FA-2015-8812</td><td>2015-02-06</td><td>2015-02-14</td><td> 8</td><td>Standard Class</td><td>Fashion</td><td>T - Shirts</td><td>248</td><td>2</td><td>0.01</td><td>163.04</td><td>16.304</td><td>Medium</td><td> 8</td></tr>\n",
              "\t<tr><td>FA-2015-8823</td><td>2015-01-10</td><td>2015-01-18</td><td> 8</td><td>Standard Class</td><td>Fashion</td><td>T - Shirts</td><td>248</td><td>2</td><td>0.02</td><td>158.08</td><td>15.808</td><td>High  </td><td> 8</td></tr>\n",
              "\t<tr><td>FA-2015-8845</td><td>2015-09-05</td><td>2015-09-14</td><td> 9</td><td>Standard Class</td><td>Fashion</td><td>T - Shirts</td><td>248</td><td>3</td><td>0.05</td><td>130.80</td><td>13.080</td><td>High  </td><td> 9</td></tr>\n",
              "\t<tr><td>FA-2015-8856</td><td>2015-09-30</td><td>2015-10-09</td><td> 9</td><td>Standard Class</td><td>Fashion</td><td>T - Shirts</td><td>248</td><td>1</td><td>0.04</td><td>158.08</td><td>15.808</td><td>Medium</td><td> 9</td></tr>\n",
              "\t<tr><td>FA-2015-8878</td><td>2015-06-15</td><td>2015-06-23</td><td> 8</td><td>Standard Class</td><td>Fashion</td><td>T - Shirts</td><td>248</td><td>4</td><td>0.05</td><td>118.40</td><td>11.840</td><td>Medium</td><td> 8</td></tr>\n",
              "\t<tr><td>FA-2015-8911</td><td>2015-08-27</td><td>2015-09-05</td><td> 9</td><td>Standard Class</td><td>Fashion</td><td>T - Shirts</td><td>248</td><td>5</td><td>0.05</td><td>106.00</td><td>10.600</td><td>Medium</td><td> 9</td></tr>\n",
              "\t<tr><td>FA-2015-8988</td><td>2015-10-26</td><td>2015-11-03</td><td> 8</td><td>Standard Class</td><td>Fashion</td><td>T - Shirts</td><td>248</td><td>5</td><td>0.04</td><td>118.40</td><td>11.840</td><td>High  </td><td> 8</td></tr>\n",
              "\t<tr><td>FA-2015-9010</td><td>2015-09-02</td><td>2015-09-11</td><td> 9</td><td>Standard Class</td><td>Fashion</td><td>T - Shirts</td><td>248</td><td>3</td><td>0.05</td><td>130.80</td><td>13.080</td><td>Low   </td><td> 9</td></tr>\n",
              "\t<tr><td>FA-2015-9076</td><td>2015-11-04</td><td>2015-11-14</td><td>10</td><td>Standard Class</td><td>Fashion</td><td>T - Shirts</td><td>248</td><td>2</td><td>0.05</td><td>143.20</td><td>14.320</td><td>High  </td><td>10</td></tr>\n",
              "\t<tr><td>FA-2015-9153</td><td>2015-01-02</td><td>2015-01-10</td><td> 8</td><td>Standard Class</td><td>Fashion</td><td>T - Shirts</td><td>248</td><td>5</td><td>0.02</td><td>143.20</td><td>14.320</td><td>Medium</td><td> 8</td></tr>\n",
              "\t<tr><td>FA-2015-9219</td><td>2015-06-25</td><td>2015-07-05</td><td>10</td><td>Standard Class</td><td>Fashion</td><td>T - Shirts</td><td>248</td><td>2</td><td>0.01</td><td>163.04</td><td>16.304</td><td>High  </td><td>10</td></tr>\n",
              "\t<tr><td>FA-2015-9241</td><td>2015-07-18</td><td>2015-07-26</td><td> 8</td><td>Standard Class</td><td>Fashion</td><td>T - Shirts</td><td>248</td><td>1</td><td>0.04</td><td>158.08</td><td>15.808</td><td>High  </td><td> 8</td></tr>\n",
              "\t<tr><td>FA-2015-9296</td><td>2015-06-16</td><td>2015-06-26</td><td>10</td><td>Standard Class</td><td>Fashion</td><td>T - Shirts</td><td>248</td><td>1</td><td>0.02</td><td>163.04</td><td>16.304</td><td>Medium</td><td>10</td></tr>\n",
              "\t<tr><td>FA-2015-9307</td><td>2015-03-17</td><td>2015-03-25</td><td> 8</td><td>Standard Class</td><td>Fashion</td><td>T - Shirts</td><td>248</td><td>4</td><td>0.03</td><td>138.24</td><td>13.824</td><td>Medium</td><td> 8</td></tr>\n",
              "</tbody>\n",
              "</table>\n"
            ],
            "text/markdown": "\nA tibble: 248 × 14\n\n| Order ID &lt;chr&gt; | Order Date &lt;date&gt; | Shipping Date &lt;date&gt; | Aging &lt;dbl&gt; | Ship Mode &lt;chr&gt; | Product Category &lt;chr&gt; | Product &lt;chr&gt; | Sales &lt;dbl&gt; | Quantity &lt;dbl&gt; | Discount &lt;dbl&gt; | Profit &lt;dbl&gt; | Shipping Cost &lt;dbl&gt; | Order Priority &lt;chr&gt; | Shipping Duration &lt;dbl&gt; |\n|---|---|---|---|---|---|---|---|---|---|---|---|---|---|\n| FA-2015-12   | 2015-06-19 | 2015-06-29 | 10 | Standard Class | Fashion | T - Shirts | 248 | 5 | 0.02 | 143.2000 | 14.320 | Low    | 10 |\n| FA-2015-210  | 2015-04-11 | 2015-04-20 |  9 | Standard Class | Fashion | T - Shirts | 248 | 3 | 0.01 | 160.5600 | 16.056 | Medium |  9 |\n| FA-2015-221  | 2015-10-15 | 2015-10-24 |  9 | Standard Class | Fashion | T - Shirts | 248 | 4 | 0.05 | 145.7642 | 11.840 | High   |  9 |\n| FA-2015-232  | 2015-07-24 | 2015-08-01 |  8 | Standard Class | Fashion | T - Shirts | 248 | 1 | 0.02 | 145.7642 | 16.304 | High   |  8 |\n| FA-2015-265  | 2015-08-11 | 2015-08-20 |  9 | Standard Class | Fashion | T - Shirts | 248 | 1 | 0.04 | 145.7642 | 15.808 | High   |  9 |\n| FA-2015-287  | 2015-08-28 | 2015-09-06 |  9 | Standard Class | Fashion | T - Shirts | 248 | 3 | 0.01 | 145.7642 | 16.056 | Medium |  9 |\n| FA-2015-331  | 2015-09-13 | 2015-09-22 |  9 | Standard Class | Fashion | T - Shirts | 248 | 5 | 0.01 | 145.7642 | 15.560 | Medium |  9 |\n| FA-2015-408  | 2015-07-25 | 2015-08-03 |  9 | Standard Class | Fashion | T - Shirts | 248 | 2 | 0.03 | 145.7642 | 15.312 | Medium |  9 |\n| FA-2015-419  | 2015-05-15 | 2015-05-24 |  9 | Standard Class | Fashion | T - Shirts | 248 | 3 | 0.04 | 145.7642 | 13.824 | Low    |  9 |\n| FA-2015-485  | 2015-08-09 | 2015-08-19 | 10 | Standard Class | Fashion | T - Shirts | 248 | 2 | 0.03 | 145.7642 | 15.312 | Medium | 10 |\n| FA-2015-551  | 2015-12-16 | 2015-12-24 |  8 | Standard Class | Fashion | T - Shirts | 248 | 4 | 0.02 | 148.1600 | 14.816 | Medium |  8 |\n| FA-2015-683  | 2015-08-26 | 2015-09-04 |  9 | Standard Class | Fashion | T - Shirts | 248 | 3 | 0.04 | 138.2400 | 13.824 | Medium |  9 |\n| FA-2015-705  | 2015-04-05 | 2015-04-13 |  8 | Standard Class | Fashion | T - Shirts | 248 | 5 | 0.04 | 118.4000 | 11.840 | High   |  8 |\n| FA-2015-738  | 2015-04-29 | 2015-05-09 | 10 | Standard Class | Fashion | T - Shirts | 248 | 2 | 0.04 | 148.1600 | 14.816 | Medium | 10 |\n| FA-2015-881  | 2015-07-19 | 2015-07-27 |  8 | Standard Class | Fashion | T - Shirts | 248 | 3 | 0.05 | 130.8000 | 13.080 | High   |  8 |\n| FA-2015-936  | 2015-05-31 | 2015-06-08 |  8 | Standard Class | Fashion | T - Shirts | 248 | 1 | 0.04 | 158.0800 | 15.808 | Low    |  8 |\n| FA-2015-958  | 2015-05-11 | 2015-05-21 | 10 | Standard Class | Fashion | T - Shirts | 248 | 5 | 0.05 | 106.0000 | 10.600 | Medium | 10 |\n| FA-2015-1013 | 2015-03-09 | 2015-03-19 | 10 | Standard Class | Fashion | T - Shirts | 248 | 3 | 0.05 | 130.8000 | 13.080 | Medium | 10 |\n| FA-2015-1024 | 2015-01-20 | 2015-01-30 | 10 | Standard Class | Fashion | T - Shirts | 248 | 4 | 0.01 | 158.0800 | 15.808 | Low    | 10 |\n| FA-2015-1057 | 2015-03-26 | 2015-04-04 |  9 | Standard Class | Fashion | T - Shirts | 248 | 2 | 0.04 | 148.1600 | 14.816 | Medium |  9 |\n| FA-2015-1090 | 2015-04-28 | 2015-05-08 | 10 | Standard Class | Fashion | T - Shirts | 248 | 5 | 0.05 | 106.0000 | 10.600 | Medium | 10 |\n| FA-2015-1189 | 2015-04-27 | 2015-05-06 |  9 | Standard Class | Fashion | T - Shirts | 248 | 5 | 0.01 | 155.6000 | 15.560 | Medium |  9 |\n| FA-2015-1211 | 2015-09-13 | 2015-09-23 | 10 | Standard Class | Fashion | T - Shirts | 248 | 5 | 0.05 | 106.0000 | 10.600 | High   | 10 |\n| FA-2015-1332 | 2015-09-19 | 2015-09-27 |  8 | Standard Class | Fashion | T - Shirts | 248 | 3 | 0.05 | 130.8000 | 13.080 | Medium |  8 |\n| FA-2015-1343 | 2015-06-18 | 2015-06-28 | 10 | Standard Class | Fashion | T - Shirts | 248 | 3 | 0.04 | 138.2400 | 13.824 | High   | 10 |\n| FA-2015-1354 | 2015-01-06 | 2015-01-15 |  9 | Standard Class | Fashion | T - Shirts | 248 | 4 | 0.02 | 148.1600 | 14.816 | Low    |  9 |\n| FA-2015-1365 | 2015-12-23 | 2016-01-01 |  9 | Standard Class | Fashion | T - Shirts | 248 | 3 | 0.02 | 153.1200 | 15.312 | High   |  9 |\n| FA-2015-1376 | 2015-12-18 | 2015-12-26 |  8 | Standard Class | Fashion | T - Shirts | 248 | 5 | 0.03 | 130.8000 | 13.080 | Medium |  8 |\n| FA-2015-1387 | 2015-05-12 | 2015-05-22 | 10 | Standard Class | Fashion | T - Shirts | 248 | 1 | 0.04 | 158.0800 | 15.808 | Medium | 10 |\n| FA-2015-1431 | 2015-08-06 | 2015-08-14 |  8 | Standard Class | Fashion | T - Shirts | 248 | 4 | 0.04 | 128.3200 | 12.832 | High   |  8 |\n| ⋮ | ⋮ | ⋮ | ⋮ | ⋮ | ⋮ | ⋮ | ⋮ | ⋮ | ⋮ | ⋮ | ⋮ | ⋮ | ⋮ |\n| FA-2015-8339 | 2015-06-05 | 2015-06-13 |  8 | Standard Class | Fashion | T - Shirts | 248 | 3 | 0.04 | 138.24 | 13.824 | Medium |  8 |\n| FA-2015-8361 | 2015-10-27 | 2015-11-06 | 10 | Standard Class | Fashion | T - Shirts | 248 | 4 | 0.03 | 138.24 | 13.824 | Medium | 10 |\n| FA-2015-8372 | 2015-02-26 | 2015-03-07 |  9 | Standard Class | Fashion | T - Shirts | 248 | 3 | 0.05 | 130.80 | 13.080 | High   |  9 |\n| FA-2015-8416 | 2015-01-29 | 2015-02-07 |  9 | Standard Class | Fashion | T - Shirts | 248 | 1 | 0.01 | 165.52 | 16.552 | High   |  9 |\n| FA-2015-8438 | 2015-05-20 | 2015-05-30 | 10 | Standard Class | Fashion | T - Shirts | 248 | 2 | 0.05 | 143.20 | 14.320 | Medium | 10 |\n| FA-2015-8515 | 2015-05-08 | 2015-05-16 |  8 | Standard Class | Fashion | T - Shirts | 248 | 4 | 0.01 | 158.08 | 15.808 | Medium |  8 |\n| FA-2015-8548 | 2015-06-30 | 2015-07-10 | 10 | Standard Class | Fashion | T - Shirts | 248 | 1 | 0.04 | 158.08 | 15.808 | High   | 10 |\n| FA-2015-8570 | 2015-08-28 | 2015-09-05 |  8 | Standard Class | Fashion | T - Shirts | 248 | 3 | 0.05 | 130.80 | 13.080 | Low    |  8 |\n| FA-2015-8592 | 2015-12-10 | 2015-12-20 | 10 | Standard Class | Fashion | T - Shirts | 248 | 2 | 0.03 | 153.12 | 15.312 | Medium | 10 |\n| FA-2015-8625 | 2015-07-03 | 2015-07-13 | 10 | Standard Class | Fashion | T - Shirts | 248 | 2 | 0.01 | 163.04 | 16.304 | High   | 10 |\n| FA-2015-8702 | 2015-02-21 | 2015-03-01 |  8 | Standard Class | Fashion | T - Shirts | 248 | 4 | 0.01 | 158.08 | 15.808 | Medium |  8 |\n| FA-2015-8713 | 2015-10-20 | 2015-10-30 | 10 | Standard Class | Fashion | T - Shirts | 248 | 2 | 0.05 | 143.20 | 14.320 | Medium | 10 |\n| FA-2015-8724 | 2015-05-24 | 2015-06-02 |  9 | Standard Class | Fashion | T - Shirts | 248 | 3 | 0.03 | 145.68 | 14.568 | High   |  9 |\n| FA-2015-8746 | 2015-08-13 | 2015-08-21 |  8 | Standard Class | Fashion | T - Shirts | 248 | 3 | 0.03 | 145.68 | 14.568 | Medium |  8 |\n| FA-2015-8779 | 2015-01-17 | 2015-01-25 |  8 | Standard Class | Fashion | T - Shirts | 248 | 5 | 0.02 | 143.20 | 14.320 | Medium |  8 |\n| FA-2015-8801 | 2015-05-29 | 2015-06-08 | 10 | Standard Class | Fashion | T - Shirts | 248 | 2 | 0.02 | 158.08 | 15.808 | High   | 10 |\n| FA-2015-8812 | 2015-02-06 | 2015-02-14 |  8 | Standard Class | Fashion | T - Shirts | 248 | 2 | 0.01 | 163.04 | 16.304 | Medium |  8 |\n| FA-2015-8823 | 2015-01-10 | 2015-01-18 |  8 | Standard Class | Fashion | T - Shirts | 248 | 2 | 0.02 | 158.08 | 15.808 | High   |  8 |\n| FA-2015-8845 | 2015-09-05 | 2015-09-14 |  9 | Standard Class | Fashion | T - Shirts | 248 | 3 | 0.05 | 130.80 | 13.080 | High   |  9 |\n| FA-2015-8856 | 2015-09-30 | 2015-10-09 |  9 | Standard Class | Fashion | T - Shirts | 248 | 1 | 0.04 | 158.08 | 15.808 | Medium |  9 |\n| FA-2015-8878 | 2015-06-15 | 2015-06-23 |  8 | Standard Class | Fashion | T - Shirts | 248 | 4 | 0.05 | 118.40 | 11.840 | Medium |  8 |\n| FA-2015-8911 | 2015-08-27 | 2015-09-05 |  9 | Standard Class | Fashion | T - Shirts | 248 | 5 | 0.05 | 106.00 | 10.600 | Medium |  9 |\n| FA-2015-8988 | 2015-10-26 | 2015-11-03 |  8 | Standard Class | Fashion | T - Shirts | 248 | 5 | 0.04 | 118.40 | 11.840 | High   |  8 |\n| FA-2015-9010 | 2015-09-02 | 2015-09-11 |  9 | Standard Class | Fashion | T - Shirts | 248 | 3 | 0.05 | 130.80 | 13.080 | Low    |  9 |\n| FA-2015-9076 | 2015-11-04 | 2015-11-14 | 10 | Standard Class | Fashion | T - Shirts | 248 | 2 | 0.05 | 143.20 | 14.320 | High   | 10 |\n| FA-2015-9153 | 2015-01-02 | 2015-01-10 |  8 | Standard Class | Fashion | T - Shirts | 248 | 5 | 0.02 | 143.20 | 14.320 | Medium |  8 |\n| FA-2015-9219 | 2015-06-25 | 2015-07-05 | 10 | Standard Class | Fashion | T - Shirts | 248 | 2 | 0.01 | 163.04 | 16.304 | High   | 10 |\n| FA-2015-9241 | 2015-07-18 | 2015-07-26 |  8 | Standard Class | Fashion | T - Shirts | 248 | 1 | 0.04 | 158.08 | 15.808 | High   |  8 |\n| FA-2015-9296 | 2015-06-16 | 2015-06-26 | 10 | Standard Class | Fashion | T - Shirts | 248 | 1 | 0.02 | 163.04 | 16.304 | Medium | 10 |\n| FA-2015-9307 | 2015-03-17 | 2015-03-25 |  8 | Standard Class | Fashion | T - Shirts | 248 | 4 | 0.03 | 138.24 | 13.824 | Medium |  8 |\n\n",
            "text/latex": "A tibble: 248 × 14\n\\begin{tabular}{llllllllllllll}\n Order ID & Order Date & Shipping Date & Aging & Ship Mode & Product Category & Product & Sales & Quantity & Discount & Profit & Shipping Cost & Order Priority & Shipping Duration\\\\\n <chr> & <date> & <date> & <dbl> & <chr> & <chr> & <chr> & <dbl> & <dbl> & <dbl> & <dbl> & <dbl> & <chr> & <dbl>\\\\\n\\hline\n\t FA-2015-12   & 2015-06-19 & 2015-06-29 & 10 & Standard Class & Fashion & T - Shirts & 248 & 5 & 0.02 & 143.2000 & 14.320 & Low    & 10\\\\\n\t FA-2015-210  & 2015-04-11 & 2015-04-20 &  9 & Standard Class & Fashion & T - Shirts & 248 & 3 & 0.01 & 160.5600 & 16.056 & Medium &  9\\\\\n\t FA-2015-221  & 2015-10-15 & 2015-10-24 &  9 & Standard Class & Fashion & T - Shirts & 248 & 4 & 0.05 & 145.7642 & 11.840 & High   &  9\\\\\n\t FA-2015-232  & 2015-07-24 & 2015-08-01 &  8 & Standard Class & Fashion & T - Shirts & 248 & 1 & 0.02 & 145.7642 & 16.304 & High   &  8\\\\\n\t FA-2015-265  & 2015-08-11 & 2015-08-20 &  9 & Standard Class & Fashion & T - Shirts & 248 & 1 & 0.04 & 145.7642 & 15.808 & High   &  9\\\\\n\t FA-2015-287  & 2015-08-28 & 2015-09-06 &  9 & Standard Class & Fashion & T - Shirts & 248 & 3 & 0.01 & 145.7642 & 16.056 & Medium &  9\\\\\n\t FA-2015-331  & 2015-09-13 & 2015-09-22 &  9 & Standard Class & Fashion & T - Shirts & 248 & 5 & 0.01 & 145.7642 & 15.560 & Medium &  9\\\\\n\t FA-2015-408  & 2015-07-25 & 2015-08-03 &  9 & Standard Class & Fashion & T - Shirts & 248 & 2 & 0.03 & 145.7642 & 15.312 & Medium &  9\\\\\n\t FA-2015-419  & 2015-05-15 & 2015-05-24 &  9 & Standard Class & Fashion & T - Shirts & 248 & 3 & 0.04 & 145.7642 & 13.824 & Low    &  9\\\\\n\t FA-2015-485  & 2015-08-09 & 2015-08-19 & 10 & Standard Class & Fashion & T - Shirts & 248 & 2 & 0.03 & 145.7642 & 15.312 & Medium & 10\\\\\n\t FA-2015-551  & 2015-12-16 & 2015-12-24 &  8 & Standard Class & Fashion & T - Shirts & 248 & 4 & 0.02 & 148.1600 & 14.816 & Medium &  8\\\\\n\t FA-2015-683  & 2015-08-26 & 2015-09-04 &  9 & Standard Class & Fashion & T - Shirts & 248 & 3 & 0.04 & 138.2400 & 13.824 & Medium &  9\\\\\n\t FA-2015-705  & 2015-04-05 & 2015-04-13 &  8 & Standard Class & Fashion & T - Shirts & 248 & 5 & 0.04 & 118.4000 & 11.840 & High   &  8\\\\\n\t FA-2015-738  & 2015-04-29 & 2015-05-09 & 10 & Standard Class & Fashion & T - Shirts & 248 & 2 & 0.04 & 148.1600 & 14.816 & Medium & 10\\\\\n\t FA-2015-881  & 2015-07-19 & 2015-07-27 &  8 & Standard Class & Fashion & T - Shirts & 248 & 3 & 0.05 & 130.8000 & 13.080 & High   &  8\\\\\n\t FA-2015-936  & 2015-05-31 & 2015-06-08 &  8 & Standard Class & Fashion & T - Shirts & 248 & 1 & 0.04 & 158.0800 & 15.808 & Low    &  8\\\\\n\t FA-2015-958  & 2015-05-11 & 2015-05-21 & 10 & Standard Class & Fashion & T - Shirts & 248 & 5 & 0.05 & 106.0000 & 10.600 & Medium & 10\\\\\n\t FA-2015-1013 & 2015-03-09 & 2015-03-19 & 10 & Standard Class & Fashion & T - Shirts & 248 & 3 & 0.05 & 130.8000 & 13.080 & Medium & 10\\\\\n\t FA-2015-1024 & 2015-01-20 & 2015-01-30 & 10 & Standard Class & Fashion & T - Shirts & 248 & 4 & 0.01 & 158.0800 & 15.808 & Low    & 10\\\\\n\t FA-2015-1057 & 2015-03-26 & 2015-04-04 &  9 & Standard Class & Fashion & T - Shirts & 248 & 2 & 0.04 & 148.1600 & 14.816 & Medium &  9\\\\\n\t FA-2015-1090 & 2015-04-28 & 2015-05-08 & 10 & Standard Class & Fashion & T - Shirts & 248 & 5 & 0.05 & 106.0000 & 10.600 & Medium & 10\\\\\n\t FA-2015-1189 & 2015-04-27 & 2015-05-06 &  9 & Standard Class & Fashion & T - Shirts & 248 & 5 & 0.01 & 155.6000 & 15.560 & Medium &  9\\\\\n\t FA-2015-1211 & 2015-09-13 & 2015-09-23 & 10 & Standard Class & Fashion & T - Shirts & 248 & 5 & 0.05 & 106.0000 & 10.600 & High   & 10\\\\\n\t FA-2015-1332 & 2015-09-19 & 2015-09-27 &  8 & Standard Class & Fashion & T - Shirts & 248 & 3 & 0.05 & 130.8000 & 13.080 & Medium &  8\\\\\n\t FA-2015-1343 & 2015-06-18 & 2015-06-28 & 10 & Standard Class & Fashion & T - Shirts & 248 & 3 & 0.04 & 138.2400 & 13.824 & High   & 10\\\\\n\t FA-2015-1354 & 2015-01-06 & 2015-01-15 &  9 & Standard Class & Fashion & T - Shirts & 248 & 4 & 0.02 & 148.1600 & 14.816 & Low    &  9\\\\\n\t FA-2015-1365 & 2015-12-23 & 2016-01-01 &  9 & Standard Class & Fashion & T - Shirts & 248 & 3 & 0.02 & 153.1200 & 15.312 & High   &  9\\\\\n\t FA-2015-1376 & 2015-12-18 & 2015-12-26 &  8 & Standard Class & Fashion & T - Shirts & 248 & 5 & 0.03 & 130.8000 & 13.080 & Medium &  8\\\\\n\t FA-2015-1387 & 2015-05-12 & 2015-05-22 & 10 & Standard Class & Fashion & T - Shirts & 248 & 1 & 0.04 & 158.0800 & 15.808 & Medium & 10\\\\\n\t FA-2015-1431 & 2015-08-06 & 2015-08-14 &  8 & Standard Class & Fashion & T - Shirts & 248 & 4 & 0.04 & 128.3200 & 12.832 & High   &  8\\\\\n\t ⋮ & ⋮ & ⋮ & ⋮ & ⋮ & ⋮ & ⋮ & ⋮ & ⋮ & ⋮ & ⋮ & ⋮ & ⋮ & ⋮\\\\\n\t FA-2015-8339 & 2015-06-05 & 2015-06-13 &  8 & Standard Class & Fashion & T - Shirts & 248 & 3 & 0.04 & 138.24 & 13.824 & Medium &  8\\\\\n\t FA-2015-8361 & 2015-10-27 & 2015-11-06 & 10 & Standard Class & Fashion & T - Shirts & 248 & 4 & 0.03 & 138.24 & 13.824 & Medium & 10\\\\\n\t FA-2015-8372 & 2015-02-26 & 2015-03-07 &  9 & Standard Class & Fashion & T - Shirts & 248 & 3 & 0.05 & 130.80 & 13.080 & High   &  9\\\\\n\t FA-2015-8416 & 2015-01-29 & 2015-02-07 &  9 & Standard Class & Fashion & T - Shirts & 248 & 1 & 0.01 & 165.52 & 16.552 & High   &  9\\\\\n\t FA-2015-8438 & 2015-05-20 & 2015-05-30 & 10 & Standard Class & Fashion & T - Shirts & 248 & 2 & 0.05 & 143.20 & 14.320 & Medium & 10\\\\\n\t FA-2015-8515 & 2015-05-08 & 2015-05-16 &  8 & Standard Class & Fashion & T - Shirts & 248 & 4 & 0.01 & 158.08 & 15.808 & Medium &  8\\\\\n\t FA-2015-8548 & 2015-06-30 & 2015-07-10 & 10 & Standard Class & Fashion & T - Shirts & 248 & 1 & 0.04 & 158.08 & 15.808 & High   & 10\\\\\n\t FA-2015-8570 & 2015-08-28 & 2015-09-05 &  8 & Standard Class & Fashion & T - Shirts & 248 & 3 & 0.05 & 130.80 & 13.080 & Low    &  8\\\\\n\t FA-2015-8592 & 2015-12-10 & 2015-12-20 & 10 & Standard Class & Fashion & T - Shirts & 248 & 2 & 0.03 & 153.12 & 15.312 & Medium & 10\\\\\n\t FA-2015-8625 & 2015-07-03 & 2015-07-13 & 10 & Standard Class & Fashion & T - Shirts & 248 & 2 & 0.01 & 163.04 & 16.304 & High   & 10\\\\\n\t FA-2015-8702 & 2015-02-21 & 2015-03-01 &  8 & Standard Class & Fashion & T - Shirts & 248 & 4 & 0.01 & 158.08 & 15.808 & Medium &  8\\\\\n\t FA-2015-8713 & 2015-10-20 & 2015-10-30 & 10 & Standard Class & Fashion & T - Shirts & 248 & 2 & 0.05 & 143.20 & 14.320 & Medium & 10\\\\\n\t FA-2015-8724 & 2015-05-24 & 2015-06-02 &  9 & Standard Class & Fashion & T - Shirts & 248 & 3 & 0.03 & 145.68 & 14.568 & High   &  9\\\\\n\t FA-2015-8746 & 2015-08-13 & 2015-08-21 &  8 & Standard Class & Fashion & T - Shirts & 248 & 3 & 0.03 & 145.68 & 14.568 & Medium &  8\\\\\n\t FA-2015-8779 & 2015-01-17 & 2015-01-25 &  8 & Standard Class & Fashion & T - Shirts & 248 & 5 & 0.02 & 143.20 & 14.320 & Medium &  8\\\\\n\t FA-2015-8801 & 2015-05-29 & 2015-06-08 & 10 & Standard Class & Fashion & T - Shirts & 248 & 2 & 0.02 & 158.08 & 15.808 & High   & 10\\\\\n\t FA-2015-8812 & 2015-02-06 & 2015-02-14 &  8 & Standard Class & Fashion & T - Shirts & 248 & 2 & 0.01 & 163.04 & 16.304 & Medium &  8\\\\\n\t FA-2015-8823 & 2015-01-10 & 2015-01-18 &  8 & Standard Class & Fashion & T - Shirts & 248 & 2 & 0.02 & 158.08 & 15.808 & High   &  8\\\\\n\t FA-2015-8845 & 2015-09-05 & 2015-09-14 &  9 & Standard Class & Fashion & T - Shirts & 248 & 3 & 0.05 & 130.80 & 13.080 & High   &  9\\\\\n\t FA-2015-8856 & 2015-09-30 & 2015-10-09 &  9 & Standard Class & Fashion & T - Shirts & 248 & 1 & 0.04 & 158.08 & 15.808 & Medium &  9\\\\\n\t FA-2015-8878 & 2015-06-15 & 2015-06-23 &  8 & Standard Class & Fashion & T - Shirts & 248 & 4 & 0.05 & 118.40 & 11.840 & Medium &  8\\\\\n\t FA-2015-8911 & 2015-08-27 & 2015-09-05 &  9 & Standard Class & Fashion & T - Shirts & 248 & 5 & 0.05 & 106.00 & 10.600 & Medium &  9\\\\\n\t FA-2015-8988 & 2015-10-26 & 2015-11-03 &  8 & Standard Class & Fashion & T - Shirts & 248 & 5 & 0.04 & 118.40 & 11.840 & High   &  8\\\\\n\t FA-2015-9010 & 2015-09-02 & 2015-09-11 &  9 & Standard Class & Fashion & T - Shirts & 248 & 3 & 0.05 & 130.80 & 13.080 & Low    &  9\\\\\n\t FA-2015-9076 & 2015-11-04 & 2015-11-14 & 10 & Standard Class & Fashion & T - Shirts & 248 & 2 & 0.05 & 143.20 & 14.320 & High   & 10\\\\\n\t FA-2015-9153 & 2015-01-02 & 2015-01-10 &  8 & Standard Class & Fashion & T - Shirts & 248 & 5 & 0.02 & 143.20 & 14.320 & Medium &  8\\\\\n\t FA-2015-9219 & 2015-06-25 & 2015-07-05 & 10 & Standard Class & Fashion & T - Shirts & 248 & 2 & 0.01 & 163.04 & 16.304 & High   & 10\\\\\n\t FA-2015-9241 & 2015-07-18 & 2015-07-26 &  8 & Standard Class & Fashion & T - Shirts & 248 & 1 & 0.04 & 158.08 & 15.808 & High   &  8\\\\\n\t FA-2015-9296 & 2015-06-16 & 2015-06-26 & 10 & Standard Class & Fashion & T - Shirts & 248 & 1 & 0.02 & 163.04 & 16.304 & Medium & 10\\\\\n\t FA-2015-9307 & 2015-03-17 & 2015-03-25 &  8 & Standard Class & Fashion & T - Shirts & 248 & 4 & 0.03 & 138.24 & 13.824 & Medium &  8\\\\\n\\end{tabular}\n",
            "text/plain": [
              "    Order ID     Order Date Shipping Date Aging Ship Mode      Product Category\n",
              "1   FA-2015-12   2015-06-19 2015-06-29    10    Standard Class Fashion         \n",
              "2   FA-2015-210  2015-04-11 2015-04-20     9    Standard Class Fashion         \n",
              "3   FA-2015-221  2015-10-15 2015-10-24     9    Standard Class Fashion         \n",
              "4   FA-2015-232  2015-07-24 2015-08-01     8    Standard Class Fashion         \n",
              "5   FA-2015-265  2015-08-11 2015-08-20     9    Standard Class Fashion         \n",
              "6   FA-2015-287  2015-08-28 2015-09-06     9    Standard Class Fashion         \n",
              "7   FA-2015-331  2015-09-13 2015-09-22     9    Standard Class Fashion         \n",
              "8   FA-2015-408  2015-07-25 2015-08-03     9    Standard Class Fashion         \n",
              "9   FA-2015-419  2015-05-15 2015-05-24     9    Standard Class Fashion         \n",
              "10  FA-2015-485  2015-08-09 2015-08-19    10    Standard Class Fashion         \n",
              "11  FA-2015-551  2015-12-16 2015-12-24     8    Standard Class Fashion         \n",
              "12  FA-2015-683  2015-08-26 2015-09-04     9    Standard Class Fashion         \n",
              "13  FA-2015-705  2015-04-05 2015-04-13     8    Standard Class Fashion         \n",
              "14  FA-2015-738  2015-04-29 2015-05-09    10    Standard Class Fashion         \n",
              "15  FA-2015-881  2015-07-19 2015-07-27     8    Standard Class Fashion         \n",
              "16  FA-2015-936  2015-05-31 2015-06-08     8    Standard Class Fashion         \n",
              "17  FA-2015-958  2015-05-11 2015-05-21    10    Standard Class Fashion         \n",
              "18  FA-2015-1013 2015-03-09 2015-03-19    10    Standard Class Fashion         \n",
              "19  FA-2015-1024 2015-01-20 2015-01-30    10    Standard Class Fashion         \n",
              "20  FA-2015-1057 2015-03-26 2015-04-04     9    Standard Class Fashion         \n",
              "21  FA-2015-1090 2015-04-28 2015-05-08    10    Standard Class Fashion         \n",
              "22  FA-2015-1189 2015-04-27 2015-05-06     9    Standard Class Fashion         \n",
              "23  FA-2015-1211 2015-09-13 2015-09-23    10    Standard Class Fashion         \n",
              "24  FA-2015-1332 2015-09-19 2015-09-27     8    Standard Class Fashion         \n",
              "25  FA-2015-1343 2015-06-18 2015-06-28    10    Standard Class Fashion         \n",
              "26  FA-2015-1354 2015-01-06 2015-01-15     9    Standard Class Fashion         \n",
              "27  FA-2015-1365 2015-12-23 2016-01-01     9    Standard Class Fashion         \n",
              "28  FA-2015-1376 2015-12-18 2015-12-26     8    Standard Class Fashion         \n",
              "29  FA-2015-1387 2015-05-12 2015-05-22    10    Standard Class Fashion         \n",
              "30  FA-2015-1431 2015-08-06 2015-08-14     8    Standard Class Fashion         \n",
              "⋮   ⋮            ⋮          ⋮             ⋮     ⋮              ⋮               \n",
              "219 FA-2015-8339 2015-06-05 2015-06-13     8    Standard Class Fashion         \n",
              "220 FA-2015-8361 2015-10-27 2015-11-06    10    Standard Class Fashion         \n",
              "221 FA-2015-8372 2015-02-26 2015-03-07     9    Standard Class Fashion         \n",
              "222 FA-2015-8416 2015-01-29 2015-02-07     9    Standard Class Fashion         \n",
              "223 FA-2015-8438 2015-05-20 2015-05-30    10    Standard Class Fashion         \n",
              "224 FA-2015-8515 2015-05-08 2015-05-16     8    Standard Class Fashion         \n",
              "225 FA-2015-8548 2015-06-30 2015-07-10    10    Standard Class Fashion         \n",
              "226 FA-2015-8570 2015-08-28 2015-09-05     8    Standard Class Fashion         \n",
              "227 FA-2015-8592 2015-12-10 2015-12-20    10    Standard Class Fashion         \n",
              "228 FA-2015-8625 2015-07-03 2015-07-13    10    Standard Class Fashion         \n",
              "229 FA-2015-8702 2015-02-21 2015-03-01     8    Standard Class Fashion         \n",
              "230 FA-2015-8713 2015-10-20 2015-10-30    10    Standard Class Fashion         \n",
              "231 FA-2015-8724 2015-05-24 2015-06-02     9    Standard Class Fashion         \n",
              "232 FA-2015-8746 2015-08-13 2015-08-21     8    Standard Class Fashion         \n",
              "233 FA-2015-8779 2015-01-17 2015-01-25     8    Standard Class Fashion         \n",
              "234 FA-2015-8801 2015-05-29 2015-06-08    10    Standard Class Fashion         \n",
              "235 FA-2015-8812 2015-02-06 2015-02-14     8    Standard Class Fashion         \n",
              "236 FA-2015-8823 2015-01-10 2015-01-18     8    Standard Class Fashion         \n",
              "237 FA-2015-8845 2015-09-05 2015-09-14     9    Standard Class Fashion         \n",
              "238 FA-2015-8856 2015-09-30 2015-10-09     9    Standard Class Fashion         \n",
              "239 FA-2015-8878 2015-06-15 2015-06-23     8    Standard Class Fashion         \n",
              "240 FA-2015-8911 2015-08-27 2015-09-05     9    Standard Class Fashion         \n",
              "241 FA-2015-8988 2015-10-26 2015-11-03     8    Standard Class Fashion         \n",
              "242 FA-2015-9010 2015-09-02 2015-09-11     9    Standard Class Fashion         \n",
              "243 FA-2015-9076 2015-11-04 2015-11-14    10    Standard Class Fashion         \n",
              "244 FA-2015-9153 2015-01-02 2015-01-10     8    Standard Class Fashion         \n",
              "245 FA-2015-9219 2015-06-25 2015-07-05    10    Standard Class Fashion         \n",
              "246 FA-2015-9241 2015-07-18 2015-07-26     8    Standard Class Fashion         \n",
              "247 FA-2015-9296 2015-06-16 2015-06-26    10    Standard Class Fashion         \n",
              "248 FA-2015-9307 2015-03-17 2015-03-25     8    Standard Class Fashion         \n",
              "    Product    Sales Quantity Discount Profit   Shipping Cost Order Priority\n",
              "1   T - Shirts 248   5        0.02     143.2000 14.320        Low           \n",
              "2   T - Shirts 248   3        0.01     160.5600 16.056        Medium        \n",
              "3   T - Shirts 248   4        0.05     145.7642 11.840        High          \n",
              "4   T - Shirts 248   1        0.02     145.7642 16.304        High          \n",
              "5   T - Shirts 248   1        0.04     145.7642 15.808        High          \n",
              "6   T - Shirts 248   3        0.01     145.7642 16.056        Medium        \n",
              "7   T - Shirts 248   5        0.01     145.7642 15.560        Medium        \n",
              "8   T - Shirts 248   2        0.03     145.7642 15.312        Medium        \n",
              "9   T - Shirts 248   3        0.04     145.7642 13.824        Low           \n",
              "10  T - Shirts 248   2        0.03     145.7642 15.312        Medium        \n",
              "11  T - Shirts 248   4        0.02     148.1600 14.816        Medium        \n",
              "12  T - Shirts 248   3        0.04     138.2400 13.824        Medium        \n",
              "13  T - Shirts 248   5        0.04     118.4000 11.840        High          \n",
              "14  T - Shirts 248   2        0.04     148.1600 14.816        Medium        \n",
              "15  T - Shirts 248   3        0.05     130.8000 13.080        High          \n",
              "16  T - Shirts 248   1        0.04     158.0800 15.808        Low           \n",
              "17  T - Shirts 248   5        0.05     106.0000 10.600        Medium        \n",
              "18  T - Shirts 248   3        0.05     130.8000 13.080        Medium        \n",
              "19  T - Shirts 248   4        0.01     158.0800 15.808        Low           \n",
              "20  T - Shirts 248   2        0.04     148.1600 14.816        Medium        \n",
              "21  T - Shirts 248   5        0.05     106.0000 10.600        Medium        \n",
              "22  T - Shirts 248   5        0.01     155.6000 15.560        Medium        \n",
              "23  T - Shirts 248   5        0.05     106.0000 10.600        High          \n",
              "24  T - Shirts 248   3        0.05     130.8000 13.080        Medium        \n",
              "25  T - Shirts 248   3        0.04     138.2400 13.824        High          \n",
              "26  T - Shirts 248   4        0.02     148.1600 14.816        Low           \n",
              "27  T - Shirts 248   3        0.02     153.1200 15.312        High          \n",
              "28  T - Shirts 248   5        0.03     130.8000 13.080        Medium        \n",
              "29  T - Shirts 248   1        0.04     158.0800 15.808        Medium        \n",
              "30  T - Shirts 248   4        0.04     128.3200 12.832        High          \n",
              "⋮   ⋮          ⋮     ⋮        ⋮        ⋮        ⋮             ⋮             \n",
              "219 T - Shirts 248   3        0.04     138.24   13.824        Medium        \n",
              "220 T - Shirts 248   4        0.03     138.24   13.824        Medium        \n",
              "221 T - Shirts 248   3        0.05     130.80   13.080        High          \n",
              "222 T - Shirts 248   1        0.01     165.52   16.552        High          \n",
              "223 T - Shirts 248   2        0.05     143.20   14.320        Medium        \n",
              "224 T - Shirts 248   4        0.01     158.08   15.808        Medium        \n",
              "225 T - Shirts 248   1        0.04     158.08   15.808        High          \n",
              "226 T - Shirts 248   3        0.05     130.80   13.080        Low           \n",
              "227 T - Shirts 248   2        0.03     153.12   15.312        Medium        \n",
              "228 T - Shirts 248   2        0.01     163.04   16.304        High          \n",
              "229 T - Shirts 248   4        0.01     158.08   15.808        Medium        \n",
              "230 T - Shirts 248   2        0.05     143.20   14.320        Medium        \n",
              "231 T - Shirts 248   3        0.03     145.68   14.568        High          \n",
              "232 T - Shirts 248   3        0.03     145.68   14.568        Medium        \n",
              "233 T - Shirts 248   5        0.02     143.20   14.320        Medium        \n",
              "234 T - Shirts 248   2        0.02     158.08   15.808        High          \n",
              "235 T - Shirts 248   2        0.01     163.04   16.304        Medium        \n",
              "236 T - Shirts 248   2        0.02     158.08   15.808        High          \n",
              "237 T - Shirts 248   3        0.05     130.80   13.080        High          \n",
              "238 T - Shirts 248   1        0.04     158.08   15.808        Medium        \n",
              "239 T - Shirts 248   4        0.05     118.40   11.840        Medium        \n",
              "240 T - Shirts 248   5        0.05     106.00   10.600        Medium        \n",
              "241 T - Shirts 248   5        0.04     118.40   11.840        High          \n",
              "242 T - Shirts 248   3        0.05     130.80   13.080        Low           \n",
              "243 T - Shirts 248   2        0.05     143.20   14.320        High          \n",
              "244 T - Shirts 248   5        0.02     143.20   14.320        Medium        \n",
              "245 T - Shirts 248   2        0.01     163.04   16.304        High          \n",
              "246 T - Shirts 248   1        0.04     158.08   15.808        High          \n",
              "247 T - Shirts 248   1        0.02     163.04   16.304        Medium        \n",
              "248 T - Shirts 248   4        0.03     138.24   13.824        Medium        \n",
              "    Shipping Duration\n",
              "1   10               \n",
              "2    9               \n",
              "3    9               \n",
              "4    8               \n",
              "5    9               \n",
              "6    9               \n",
              "7    9               \n",
              "8    9               \n",
              "9    9               \n",
              "10  10               \n",
              "11   8               \n",
              "12   9               \n",
              "13   8               \n",
              "14  10               \n",
              "15   8               \n",
              "16   8               \n",
              "17  10               \n",
              "18  10               \n",
              "19  10               \n",
              "20   9               \n",
              "21  10               \n",
              "22   9               \n",
              "23  10               \n",
              "24   8               \n",
              "25  10               \n",
              "26   9               \n",
              "27   9               \n",
              "28   8               \n",
              "29  10               \n",
              "30   8               \n",
              "⋮   ⋮                \n",
              "219  8               \n",
              "220 10               \n",
              "221  9               \n",
              "222  9               \n",
              "223 10               \n",
              "224  8               \n",
              "225 10               \n",
              "226  8               \n",
              "227 10               \n",
              "228 10               \n",
              "229  8               \n",
              "230 10               \n",
              "231  9               \n",
              "232  8               \n",
              "233  8               \n",
              "234 10               \n",
              "235  8               \n",
              "236  8               \n",
              "237  9               \n",
              "238  9               \n",
              "239  8               \n",
              "240  9               \n",
              "241  8               \n",
              "242  9               \n",
              "243 10               \n",
              "244  8               \n",
              "245 10               \n",
              "246  8               \n",
              "247 10               \n",
              "248  8               "
            ]
          },
          "metadata": {}
        }
      ]
    },
    {
      "cell_type": "markdown",
      "source": [
        "###(Question 9)"
      ],
      "metadata": {
        "id": "TitaqUCwUh7J"
      }
    },
    {
      "cell_type": "markdown",
      "source": [
        "Data cleaning helps converting raw data into tidy data. In data analysis process, the data cleaning is conducted after collecting data for analysis done (Hui, 2023). Raw data isn't directly ready for analysis because it may contain problems such as having missing values or incorrect data types. Missing values cause bias or calculation errors and incorrect data types cause incorrect interpretation or misoperation of data (What Is Data Cleansing & Why Is It Important? | Alteryx, n.d.). To solve these problems and increase the quality and accuracy of data, data cleaning is necessary, and cleaned data will be helpful for more trustworthy analysis and decision-making in later data analysis process. If data cleaning is conducted incorrectly or insufficiently, it leads to wrong decision making and unreliability of data.\n",
        "\n",
        "For example, \"order date\" and \"shipping date\" columns initially had POSIXct type which can contain date and time information. However, these have only date and don't have time information, and shipping duration will be displayed on \"days\". Hence, it make more sense to convert into Date types, which leads to easier interpretations and higher quality of data. Also, I checked which column has missing values and handled each of them in appropriate methods. In question 4, imputing by average profit make sense and better than removing rows because profit will be used to calculate total profits of all order in the future. This process makes data higher quality because I didn't delete rows, so I can still can get total profits.\n",
        "\n",
        "(248 words)\n"
      ],
      "metadata": {
        "id": "3ePB0ZrCkhQn"
      }
    },
    {
      "cell_type": "markdown",
      "source": [
        "### (Question 10)"
      ],
      "metadata": {
        "id": "lNCq7e0CUl48"
      }
    },
    {
      "cell_type": "markdown",
      "source": [
        "I have created new column in question 7. To create new column, I used  symbol, $.\n",
        "\n",
        "That symbol is normaly used when accessing certain column of dataframe like in Question 6. However, when I specify new column name that haven't used in dataset, I can create new column which has that new name. Then I added the result of calculation to the column, which is the diffrence between shipping date and order date with substraction operator, \"-\". Finally, I used as.numric(), whcih is the function to convert data or column to numeric type(number). This function remove the \"days\" infromation from \"Shopping duration\" and make processing easier in the future(i.g. in conditional statement (stated in the paragraph below)). Moreover, other colums in dataframe doesn't have unit information such as \"years old\", \"$\" for cost, so it make scence to remove unit information like other columns for data consistency.\n",
        "\n",
        "I conducted filtering using subset(), which is the function to apply filtering by condition to dataframe. subset() takes dataframe and its conditional statement to filter as arguments. Therefore, to only extract data that shipping duration is greater than 7 days, I specified the dataframe and its conditional statement, which is column, \"Shipping Order\" > 7 to filter. Additionally, I converted \"shipping order\" column to numeric data type and checked that using typeof() function, so the code can compare LHS and RHS on \"Shipping Order\" > 7  without a error.\n",
        "(231 words)"
      ],
      "metadata": {
        "id": "n9tiQVJ2DIOQ"
      }
    },
    {
      "cell_type": "markdown",
      "source": [
        "#SECTION B"
      ],
      "metadata": {
        "id": "moqjb2QlJQou"
      }
    },
    {
      "cell_type": "markdown",
      "source": [
        "###Snippet 1"
      ],
      "metadata": {
        "id": "BubjjPeVJYCD"
      }
    },
    {
      "cell_type": "code",
      "source": [
        "#Define age\n",
        "age = 20\n",
        "\n",
        "#Check if age is greater than 18 or not(Check weather defined age will be considered to be Adult or Minor)\n",
        "if (age > 18) #Error 1:\n",
        "{\n",
        "    print(\"Adult\")#Error 2 :\n",
        "}else #error 3:\n",
        "{\n",
        "    print(\"Minor\")\n",
        "}"
      ],
      "metadata": {
        "colab": {
          "base_uri": "https://localhost:8080/"
        },
        "id": "L_lUrIvKJg-y",
        "outputId": "70fc63ff-f7c4-4e55-8e29-1eb34138dd24"
      },
      "execution_count": null,
      "outputs": [
        {
          "output_type": "stream",
          "name": "stdout",
          "text": [
            "[1] \"Adult\"\n"
          ]
        }
      ]
    },
    {
      "cell_type": "markdown",
      "source": [
        "###Errors:\n",
        "\n",
        "1. When parsing the code, the intrepreter hit the \"unexpected symbol\", \"a\" which is the chracter type however that is supposed to be a bracket.\n",
        "\n",
        "2. In the if-else structure, else itself is independently exisiting apart from the if(interpreter read independent else that is connected with if then reading as an error).\n",
        "\n",
        "3. wrong syntax, : is attached with else\n",
        "\n",
        "\n",
        "###Why my change resolve the issues:\n",
        "1. By putting round brackets for the conditional statement, intepreter can find conditional statement correctly.\n",
        "2. By connecting \"else\" with if block using curly brackets, {} , interpreter can correctly find there is if-else block.\n",
        "3. Removing unexpected symbol for else helps interpreter can read or parse code correctly"
      ],
      "metadata": {
        "id": "KszixpufLkHA"
      }
    },
    {
      "cell_type": "markdown",
      "source": [
        "###Snippet 2"
      ],
      "metadata": {
        "id": "GPeL4R-wJZAv"
      }
    },
    {
      "cell_type": "code",
      "source": [
        "# Define numbers that holds 1 to 5\n",
        "numbers = list(1,2,3,4,5) #error 1\n",
        "\n",
        "#Iterate over 1 to 5 and print each of all numbers in numbers\n",
        "for (number in numbers){ # error 2\n",
        "  print(number) # error 3\n",
        "}"
      ],
      "metadata": {
        "id": "IKdhTNBxJhkz",
        "colab": {
          "base_uri": "https://localhost:8080/"
        },
        "outputId": "1574efcd-11a7-4ab1-80fd-b89bd8b70a41"
      },
      "execution_count": null,
      "outputs": [
        {
          "output_type": "stream",
          "name": "stdout",
          "text": [
            "[1] 1\n",
            "[1] 2\n",
            "[1] 3\n",
            "[1] 4\n",
            "[1] 5\n"
          ]
        }
      ]
    },
    {
      "cell_type": "markdown",
      "source": [
        "###Errors\n",
        "1. list is initilsed as wrong form, [ ].\n",
        "2. for statement is lacking a round bracket, () and interpreter found the unexpected symbol, \"n\" in number instead of the bracket.\n",
        "3. Code missing the last round bracket of print function, and interpreter detected unpexpected end of input, whcih is syantex error.\n",
        "\n",
        "###Why my change resolve the issues:\n",
        "\n",
        "1. By representing the list in a proper way of R code, interpreter can recognize the list correctly.\n",
        "2. By putting round brackets for the for statement, intepreter can find for statement correctly.\n",
        "3. By putting colsing bracket, interpreter can find the end of the code correctly."
      ],
      "metadata": {
        "id": "ZtFwScxBdFAO"
      }
    },
    {
      "cell_type": "markdown",
      "source": [
        "###Snippet 3"
      ],
      "metadata": {
        "id": "lIm3C4KwJZcV"
      }
    },
    {
      "cell_type": "code",
      "source": [
        "#Define variable, \"numbers\" that have numbers from 1 to 10\n",
        "numbers = 1:10 #Error 1: logical error\n",
        "\n",
        "#Create empty list\n",
        "squares = list() # Error 2\n",
        "\n",
        "#Iterate over 1 to 10 and if the number is even, calculate square of that number and add the result to the list in each iteration\n",
        "for (x in numbers){ #Error 4\n",
        "  if (x %% 2 == 0){ #Error 3\n",
        "   squares = append(squares, x ** 2)\n",
        "  }\n",
        "}\n",
        "print(squares) # display the list of numbers"
      ],
      "metadata": {
        "id": "2wDrP0HijkC3",
        "colab": {
          "base_uri": "https://localhost:8080/"
        },
        "outputId": "5919b79b-672d-41a1-b0a3-152ee226e727"
      },
      "execution_count": null,
      "outputs": [
        {
          "output_type": "stream",
          "name": "stdout",
          "text": [
            "[[1]]\n",
            "[1] 4\n",
            "\n",
            "[[2]]\n",
            "[1] 16\n",
            "\n",
            "[[3]]\n",
            "[1] 36\n",
            "\n",
            "[[4]]\n",
            "[1] 64\n",
            "\n",
            "[[5]]\n",
            "[1] 100\n",
            "\n"
          ]
        }
      ]
    },
    {
      "cell_type": "markdown",
      "source": [
        "###Errors:\n",
        "\n",
        "1. Code, range(1, 11) in python is meant to be from 1 to 10 inclusive, but range(1,11) in R means min number 1 and max number 11 from 1 to 11(Logical error)\n",
        "\n",
        "2. Unexpected token, \"[\" is used for a variable.\n",
        "(List comprehension, which cannot be used in R, is being used to represent for-if structure in R.)\n",
        "\n",
        "3. if condition contains wrong syantex, which is % and = (an assignment operator, not a logical operator)\n",
        "\n",
        "4. for statement is lacking a round bracket, () and interpreter found the unexpected symbol instead of the bracket.\n",
        "\n",
        "\n",
        "###Why my change resolve the issues:\n",
        "\n",
        "1. By using : syambol,  that hold vector of sequence of numbers, and the variable \"numbers\" in the code will hold seqential numbers from 1 to 10.\n",
        "\n",
        "2. There is no list comprehension in R, so create empty list first and getting value that meets condition(only even numbers) and calculate power of 2 and adding to the list in each iteration.\n",
        "\n",
        "3. By fixing wrong syyntex of division syambol, from % to %%, division correctly works. Also, the conditional statement should not involve assignment operator, and should check LHS and RHS are equivalent or not. Therefore, code correctly works by changing from assignment operator to logical operator, ==.\n",
        "\n",
        "4. By putting round brackets for the for statement, intepreter can find for statement correctly.\n"
      ],
      "metadata": {
        "id": "6XqKFAJQiSEN"
      }
    },
    {
      "cell_type": "markdown",
      "source": [
        "###Snippet 4"
      ],
      "metadata": {
        "id": "vWaod1iYJZ1B"
      }
    },
    {
      "cell_type": "code",
      "source": [
        "\n",
        "#Check each of all numbers(name these as outer numbers)(0 to 2) is equivalent to all numbers(name these as inner numbers)(0 to 2).\n",
        "#However, once the inner number that is the same as the outer number has been found,\n",
        "#the outer number will be changed to the next sequential number and inner interaction continues until inner number that is the same as the outer number has been found\n",
        "for (i in 0:2){ # Error 1, Error 2\n",
        "    for (j in 0:2){ # Error 1, Error 2\n",
        "        if (i == j){\n",
        "            break\n",
        "        }\n",
        "    # display the outer and inner numbers in the current inner loop.\n",
        "    print(paste(\"i = \", i, \"j = \", j)) #Error 3\n",
        "    }\n",
        "     print(\"This is after the inner loop\") # role of boundary each outer loop\n",
        "}"
      ],
      "metadata": {
        "id": "Fj5Se-87JW-B",
        "colab": {
          "base_uri": "https://localhost:8080/"
        },
        "outputId": "61addbbe-d9f2-49dd-aadf-228c7f6b16d3"
      },
      "execution_count": null,
      "outputs": [
        {
          "output_type": "stream",
          "name": "stdout",
          "text": [
            "[1] \"This is after the inner loop\"\n",
            "[1] \"i =  1 j =  0\"\n",
            "[1] \"This is after the inner loop\"\n",
            "[1] \"i =  2 j =  0\"\n",
            "[1] \"i =  2 j =  1\"\n",
            "[1] \"This is after the inner loop\"\n"
          ]
        }
      ]
    },
    {
      "cell_type": "markdown",
      "source": [
        "###Errors:\n",
        "1. for statement is lacking a round bracket, () and interpreter found the unexpected symbol instead of the bracket.\n",
        "\n",
        "2. Code, range(3) in python is meant to be from 0 to 2 inclusive, but range(3) in R hold only 3 (Logical error)\n",
        "\n",
        "3. After interpreter read f in the print function, interpreter found reaching unexpected string constant, \". (interpreter expected there is a variable, f, but it also found \", which is the queation of string, then recognized as an error)\n",
        "\n",
        "###Why my change resolve the issues:\n",
        "\n",
        "1. By putting round brackets for the for statement, intepreter can find for statement correctly.\n",
        "\n",
        "2. By using : symbol for vector that holds sequential numbers, that hold sequence of numbers, and \"0:2\" will hold seqential numbers from 0 to 2.\n",
        "\n",
        "3. By using paste() function, concatinate string and value in R, and code correctly works without an error.\n"
      ],
      "metadata": {
        "id": "PPLDVmQWeu7e"
      }
    },
    {
      "cell_type": "markdown",
      "source": [
        "### Snippet 5"
      ],
      "metadata": {
        "id": "WEewLbwYrJVU"
      }
    },
    {
      "cell_type": "code",
      "source": [
        "#Error 1\n",
        "\n",
        "#Define 2*2 sized matrix and 2*3 sized matrix\n",
        "matrix_a = matrix(c(1,2,3,4), nrow = 2, ncol = 2)\n",
        "matrix_b = matrix(c(5,6,7,8,9,10), nrow = 2, ncol = 3)\n",
        "\n",
        "#Perform multiplication of two matrix defined above\n",
        "result = matrix_a %*% matrix_b # Error 2\n",
        "print(result)\n"
      ],
      "metadata": {
        "id": "NowB74WgrPrT",
        "colab": {
          "base_uri": "https://localhost:8080/"
        },
        "outputId": "253e8e7d-cd33-405d-c4d5-c825721450f0"
      },
      "execution_count": null,
      "outputs": [
        {
          "output_type": "stream",
          "name": "stdout",
          "text": [
            "     [,1] [,2] [,3]\n",
            "[1,]   23   31   39\n",
            "[2,]   34   46   58\n"
          ]
        }
      ]
    },
    {
      "cell_type": "markdown",
      "source": [
        "###Errors:\n",
        "\n",
        "1. nump onject cannot be found because numpy package is not yet installed and moreover, R doesn't have numpy in the first place.\n",
        "\n",
        "2. This code is meant to calculate the multipication of the two matrices. However, * symbol actually caliculate multipication of each entry, which is wrong syntax for multipication of the two matrices.\n",
        "\n",
        "\n",
        "###Why my change resolve the issues:\n",
        "\n",
        "1. Matrix can be used without importing packages or libraries in R, so just deleting the first line, which is library(nump) helps code to work correctly.\n",
        "\n",
        "2. Using correct syantax for multipication of the two matrices(changing symbol from * to %*%)\n",
        "\n",
        "\n"
      ],
      "metadata": {
        "id": "KVcJ5t7BrMh0"
      }
    },
    {
      "cell_type": "markdown",
      "source": [
        "#SECTION C"
      ],
      "metadata": {
        "id": "3wMA-BFa4b3y"
      }
    },
    {
      "cell_type": "markdown",
      "source": [
        "(Question 1)"
      ],
      "metadata": {
        "id": "yGnv1HQT4eNI"
      }
    },
    {
      "cell_type": "code",
      "source": [
        "# create vectors that represent columns I will be using to create dataframe.\n",
        "first_v = as.Date(c(\"2024-01-01\",\"2024-01-02\",\"2024-01-03\",\"2024-01-04\",\"2024-01-05\",\"2024-01-06\",\"2024-01-07\",\"2024-01-08\",\"2024-01-09\", \"2024-01-10\"))\n",
        "# For date column, I created vector of strings that represent date and converted it to date data type.\n",
        "second_v = c(\"sunny\", \"sunny\",\"rainy\",\"rainy\",\"cloudy\", \"sunny\",\"sunny\",\"rainy\", \"cloudy\", \"sunny\")\n",
        "third_v = c(FALSE,FALSE,TRUE,TRUE,FALSE,FALSE,TRUE,TRUE,FALSE,FALSE)\n",
        "\n",
        "Hotel_Booking = data.frame(date = first_v, weather = second_v, school_holiday = third_v) #\n",
        "# create df putting vectors into the data.frame() function as arguments\n",
        "print(Hotel_Booking)"
      ],
      "metadata": {
        "id": "rLVjcpEy62zi",
        "colab": {
          "base_uri": "https://localhost:8080/"
        },
        "outputId": "9fd030f0-21af-44ef-eab8-22a6b259b91c"
      },
      "execution_count": null,
      "outputs": [
        {
          "output_type": "stream",
          "name": "stdout",
          "text": [
            "         date weather school_holiday\n",
            "1  2024-01-01   sunny          FALSE\n",
            "2  2024-01-02   sunny          FALSE\n",
            "3  2024-01-03   rainy           TRUE\n",
            "4  2024-01-04   rainy           TRUE\n",
            "5  2024-01-05  cloudy          FALSE\n",
            "6  2024-01-06   sunny          FALSE\n",
            "7  2024-01-07   sunny           TRUE\n",
            "8  2024-01-08   rainy           TRUE\n",
            "9  2024-01-09  cloudy          FALSE\n",
            "10 2024-01-10   sunny          FALSE\n"
          ]
        }
      ]
    },
    {
      "cell_type": "markdown",
      "source": [
        "(Question 2)"
      ],
      "metadata": {
        "id": "jA1fIhu29cea"
      }
    },
    {
      "cell_type": "code",
      "source": [
        "# prepare variables(define weather and school holiday or not) to predict occupancy rates\n",
        "#and I will create algorithm that predict occupancy rates based on these variables using control flow structure\n",
        "\n",
        "weather_cond = \"sunny\"\n",
        "school_hol = FALSE\n",
        "\n",
        "occupancy = -1\n",
        "# set initial occupancy as -1 (unexpected value). In case output shows -1, I can know there is an error in the algorithm below.\n",
        "\n",
        "#Predict occupancy algorithm\n",
        "#Flow: check what is weather first and check holiday or not based on the weather and get occupancy.\n",
        "# Since the assignment says that \"any other conditions -> 50 %\"\", I put else conditions for both weather and holiday checks.\n",
        "\n",
        "# check weather first\n",
        "if (weather_cond == \"sunny\"){\n",
        "  # based on the weather and school holiday or not, determine the occupancy\n",
        "  if (school_hol == TRUE){\n",
        "    occupancy = 90\n",
        "  }else if (school_hol == FALSE){\n",
        "    occupancy = 70\n",
        "  }else{ # any other condition\n",
        "    occupancy = 50\n",
        "  }\n",
        "\n",
        "}else if (weather_cond == \"rainy\"){\n",
        "  if (school_hol == TRUE){\n",
        "    occupancy = 80\n",
        "  }else if (school_hol == FALSE){\n",
        "    occupancy = 60\n",
        "  }else{\n",
        "    occupancy = 50\n",
        "  }\n",
        "\n",
        "}else if (weather_cond == \"cloudy\"){\n",
        "  if (school_hol == TRUE){\n",
        "    occupancy = 75\n",
        "  }else if (school_hol == FALSE){\n",
        "    occupancy = 65\n",
        "  }else{\n",
        "    occupancy = 50\n",
        "  }\n",
        "}else{ # any other condition\n",
        "  occupancy = 50\n",
        "}\n",
        "\n",
        "print(paste(\"Occupancy:\", occupancy,\"%\")) # display the result, occupancy"
      ],
      "metadata": {
        "id": "Af3uYT909cOF",
        "colab": {
          "base_uri": "https://localhost:8080/"
        },
        "outputId": "bb63ee40-4068-4f4c-e20c-1b6a7bc446e1"
      },
      "execution_count": null,
      "outputs": [
        {
          "output_type": "stream",
          "name": "stdout",
          "text": [
            "[1] \"Occupancy: 70 %\"\n"
          ]
        }
      ]
    },
    {
      "cell_type": "markdown",
      "source": [
        "## Reference list\n",
        "\n",
        "Hui, E. G. M. (2023, April 7). What is Data Analysis Process? Medium. https://medium.com/@gohminghui88/what-is-data-analysis-process-84864779eb5\n",
        "\n",
        "‌What Is Data Cleansing & Why Is It Important? | Alteryx. (n.d.). Www.alteryx.com. https://www.alteryx.com/glossary/data-cleansing\n",
        "\n"
      ],
      "metadata": {
        "id": "elWpGKfvxlak"
      }
    }
  ]
}